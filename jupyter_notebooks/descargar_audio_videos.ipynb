{
 "cells": [
  {
   "cell_type": "code",
   "execution_count": 1,
   "id": "e5f08fc4-e173-415d-ae73-8edd89d1d2e3",
   "metadata": {},
   "outputs": [],
   "source": [
    "import pandas as pd\n",
    "import urllib.request\n",
    "import moviepy.editor as mp\n",
    "import os\n",
    "import numpy as np"
   ]
  },
  {
   "cell_type": "code",
   "execution_count": null,
   "id": "923173a1-6b1e-471a-85a1-9629cba1b7e7",
   "metadata": {},
   "outputs": [
    {
     "name": "stdout",
     "output_type": "stream",
     "text": [
      "Vídeo 0\n",
      "MoviePy - Writing audio in audios_de_trabajo/BJG5Dhic.mp3\n"
     ]
    },
    {
     "name": "stderr",
     "output_type": "stream",
     "text": [
      "                                                                                                                       \r"
     ]
    },
    {
     "name": "stdout",
     "output_type": "stream",
     "text": [
      "MoviePy - Done.\n",
      "Audio de BJG5Dhic.mp3 descargado correctamente\n",
      "Vídeo 1\n",
      "MoviePy - Writing audio in audios_de_trabajo/4hh99HjI.mp3\n"
     ]
    },
    {
     "name": "stderr",
     "output_type": "stream",
     "text": [
      "                                                                                                                       \r"
     ]
    },
    {
     "name": "stdout",
     "output_type": "stream",
     "text": [
      "MoviePy - Done.\n",
      "Audio de 4hh99HjI.mp3 descargado correctamente\n",
      "Vídeo 2\n",
      "MoviePy - Writing audio in audios_de_trabajo/j6H4FGDh.mp3\n"
     ]
    },
    {
     "name": "stderr",
     "output_type": "stream",
     "text": [
      "                                                                                                                       \r"
     ]
    },
    {
     "name": "stdout",
     "output_type": "stream",
     "text": [
      "MoviePy - Done.\n",
      "Audio de j6H4FGDh.mp3 descargado correctamente\n",
      "Vídeo 3\n",
      "MoviePy - Writing audio in audios_de_trabajo/6JejH53h.mp3\n"
     ]
    },
    {
     "name": "stderr",
     "output_type": "stream",
     "text": [
      "                                                                                                                       \r"
     ]
    },
    {
     "name": "stdout",
     "output_type": "stream",
     "text": [
      "MoviePy - Done.\n",
      "Audio de 6JejH53h.mp3 descargado correctamente\n",
      "Vídeo 4\n",
      "MoviePy - Writing audio in audios_de_trabajo/jE6690jf.mp3\n"
     ]
    },
    {
     "name": "stderr",
     "output_type": "stream",
     "text": [
      "                                                                                                                       \r"
     ]
    },
    {
     "name": "stdout",
     "output_type": "stream",
     "text": [
      "MoviePy - Done.\n",
      "Audio de jE6690jf.mp3 descargado correctamente\n",
      "Vídeo 5\n",
      "MoviePy - Writing audio in audios_de_trabajo/6AFB42bd.mp3\n"
     ]
    },
    {
     "name": "stderr",
     "output_type": "stream",
     "text": [
      "                                                                                                                       \r"
     ]
    },
    {
     "name": "stdout",
     "output_type": "stream",
     "text": [
      "MoviePy - Done.\n",
      "Audio de 6AFB42bd.mp3 descargado correctamente\n",
      "Vídeo 6\n",
      "MoviePy - Writing audio in audios_de_trabajo/57gJJEiD.mp3\n"
     ]
    },
    {
     "name": "stderr",
     "output_type": "stream",
     "text": [
      "                                                                                                                       \r"
     ]
    },
    {
     "name": "stdout",
     "output_type": "stream",
     "text": [
      "MoviePy - Done.\n",
      "Audio de 57gJJEiD.mp3 descargado correctamente\n",
      "Vídeo 7\n",
      "MoviePy - Writing audio in audios_de_trabajo/1GDj414e.mp3\n"
     ]
    },
    {
     "name": "stderr",
     "output_type": "stream",
     "text": [
      "                                                                                                                       \r"
     ]
    },
    {
     "name": "stdout",
     "output_type": "stream",
     "text": [
      "MoviePy - Done.\n",
      "Audio de 1GDj414e.mp3 descargado correctamente\n",
      "Vídeo 8\n",
      "MoviePy - Writing audio in audios_de_trabajo/4d3792ch.mp3\n"
     ]
    },
    {
     "name": "stderr",
     "output_type": "stream",
     "text": [
      "                                                                                                                       \r"
     ]
    },
    {
     "name": "stdout",
     "output_type": "stream",
     "text": [
      "MoviePy - Done.\n",
      "Audio de 4d3792ch.mp3 descargado correctamente\n",
      "Vídeo 9\n",
      "MoviePy - Writing audio in audios_de_trabajo/44j49dJf.mp3\n"
     ]
    },
    {
     "name": "stderr",
     "output_type": "stream",
     "text": [
      "                                                                                                                       \r"
     ]
    },
    {
     "name": "stdout",
     "output_type": "stream",
     "text": [
      "MoviePy - Done.\n",
      "Audio de 44j49dJf.mp3 descargado correctamente\n",
      "Vídeo 10\n",
      "MoviePy - Writing audio in audios_de_trabajo/8bE1f4A8.mp3\n"
     ]
    },
    {
     "name": "stderr",
     "output_type": "stream",
     "text": [
      "                                                                                                                       \r"
     ]
    },
    {
     "name": "stdout",
     "output_type": "stream",
     "text": [
      "MoviePy - Done.\n",
      "Audio de 8bE1f4A8.mp3 descargado correctamente\n",
      "Vídeo 11\n",
      "MoviePy - Writing audio in audios_de_trabajo/gDFaHjfA.mp3\n"
     ]
    },
    {
     "name": "stderr",
     "output_type": "stream",
     "text": [
      "                                                                                                                       \r"
     ]
    },
    {
     "name": "stdout",
     "output_type": "stream",
     "text": [
      "MoviePy - Done.\n",
      "Audio de gDFaHjfA.mp3 descargado correctamente\n",
      "Vídeo 12\n",
      "MoviePy - Writing audio in audios_de_trabajo/3JeCCAEi.mp3\n"
     ]
    },
    {
     "name": "stderr",
     "output_type": "stream",
     "text": [
      "                                                                                                                       \r"
     ]
    },
    {
     "name": "stdout",
     "output_type": "stream",
     "text": [
      "MoviePy - Done.\n",
      "Audio de 3JeCCAEi.mp3 descargado correctamente\n",
      "Vídeo 13\n",
      "MoviePy - Writing audio in audios_de_trabajo/3cdiHecI.mp3\n"
     ]
    },
    {
     "name": "stderr",
     "output_type": "stream",
     "text": [
      "                                                                                                                       \r"
     ]
    },
    {
     "name": "stdout",
     "output_type": "stream",
     "text": [
      "MoviePy - Done.\n",
      "Audio de 3cdiHecI.mp3 descargado correctamente\n",
      "Vídeo 14\n",
      "MoviePy - Writing audio in audios_de_trabajo/FEJdJfbc.mp3\n"
     ]
    },
    {
     "name": "stderr",
     "output_type": "stream",
     "text": [
      "                                                                                                                       \r"
     ]
    },
    {
     "name": "stdout",
     "output_type": "stream",
     "text": [
      "MoviePy - Done.\n",
      "Audio de FEJdJfbc.mp3 descargado correctamente\n",
      "Vídeo 15\n",
      "MoviePy - Writing audio in audios_de_trabajo/eAHJCeI2.mp3\n"
     ]
    },
    {
     "name": "stderr",
     "output_type": "stream",
     "text": [
      "                                                                                                                       \r"
     ]
    },
    {
     "name": "stdout",
     "output_type": "stream",
     "text": [
      "MoviePy - Done.\n",
      "Audio de eAHJCeI2.mp3 descargado correctamente\n",
      "Vídeo 16\n",
      "MoviePy - Writing audio in audios_de_trabajo/bIb7F0JI.mp3\n"
     ]
    },
    {
     "name": "stderr",
     "output_type": "stream",
     "text": [
      "                                                                                                                       \r"
     ]
    },
    {
     "name": "stdout",
     "output_type": "stream",
     "text": [
      "MoviePy - Done.\n",
      "Audio de bIb7F0JI.mp3 descargado correctamente\n",
      "Vídeo 17\n",
      "MoviePy - Writing audio in audios_de_trabajo/7aacHJh5.mp3\n"
     ]
    },
    {
     "name": "stderr",
     "output_type": "stream",
     "text": [
      "                                                                                                                       \r"
     ]
    },
    {
     "name": "stdout",
     "output_type": "stream",
     "text": [
      "MoviePy - Done.\n",
      "Audio de 7aacHJh5.mp3 descargado correctamente\n",
      "Vídeo 18\n",
      "MoviePy - Writing audio in audios_de_trabajo/4baC97HA.mp3\n"
     ]
    },
    {
     "name": "stderr",
     "output_type": "stream",
     "text": [
      "                                                                                                                       \r"
     ]
    },
    {
     "name": "stdout",
     "output_type": "stream",
     "text": [
      "MoviePy - Done.\n",
      "Audio de 4baC97HA.mp3 descargado correctamente\n",
      "Vídeo 19\n",
      "MoviePy - Writing audio in audios_de_trabajo/gGi035DC.mp3\n"
     ]
    },
    {
     "name": "stderr",
     "output_type": "stream",
     "text": [
      "                                                                                                                       \r"
     ]
    },
    {
     "name": "stdout",
     "output_type": "stream",
     "text": [
      "MoviePy - Done.\n",
      "Audio de gGi035DC.mp3 descargado correctamente\n",
      "Vídeo 20\n",
      "MoviePy - Writing audio in audios_de_trabajo/GB29A18i.mp3\n"
     ]
    },
    {
     "name": "stderr",
     "output_type": "stream",
     "text": [
      "                                                                                                                       \r"
     ]
    },
    {
     "name": "stdout",
     "output_type": "stream",
     "text": [
      "MoviePy - Done.\n",
      "Audio de GB29A18i.mp3 descargado correctamente\n",
      "Vídeo 21\n",
      "MoviePy - Writing audio in audios_de_trabajo/2AfaiIdF.mp3\n"
     ]
    },
    {
     "name": "stderr",
     "output_type": "stream",
     "text": [
      "                                                                                                                       \r"
     ]
    },
    {
     "name": "stdout",
     "output_type": "stream",
     "text": [
      "MoviePy - Done.\n",
      "Audio de 2AfaiIdF.mp3 descargado correctamente\n",
      "Vídeo 22\n",
      "MoviePy - Writing audio in audios_de_trabajo/Agj4AfIf.mp3\n"
     ]
    },
    {
     "name": "stderr",
     "output_type": "stream",
     "text": [
      "                                                                                                                       \r"
     ]
    },
    {
     "name": "stdout",
     "output_type": "stream",
     "text": [
      "MoviePy - Done.\n",
      "Audio de Agj4AfIf.mp3 descargado correctamente\n",
      "Vídeo 23\n",
      "MoviePy - Writing audio in audios_de_trabajo/hJeE4HdA.mp3\n"
     ]
    },
    {
     "name": "stderr",
     "output_type": "stream",
     "text": [
      "                                                                                                                       \r"
     ]
    },
    {
     "name": "stdout",
     "output_type": "stream",
     "text": [
      "MoviePy - Done.\n",
      "Audio de hJeE4HdA.mp3 descargado correctamente\n",
      "Vídeo 24\n",
      "MoviePy - Writing audio in audios_de_trabajo/HF5C7i24.mp3\n"
     ]
    },
    {
     "name": "stderr",
     "output_type": "stream",
     "text": [
      "                                                                                                                       \r"
     ]
    },
    {
     "name": "stdout",
     "output_type": "stream",
     "text": [
      "MoviePy - Done.\n",
      "Audio de HF5C7i24.mp3 descargado correctamente\n",
      "Vídeo 25\n",
      "MoviePy - Writing audio in audios_de_trabajo/85GAe16e.mp3\n"
     ]
    },
    {
     "name": "stderr",
     "output_type": "stream",
     "text": [
      "                                                                                                                       \r"
     ]
    },
    {
     "name": "stdout",
     "output_type": "stream",
     "text": [
      "MoviePy - Done.\n",
      "Audio de 85GAe16e.mp3 descargado correctamente\n",
      "Vídeo 26\n",
      "MoviePy - Writing audio in audios_de_trabajo/E17F70c9.mp3\n"
     ]
    },
    {
     "name": "stderr",
     "output_type": "stream",
     "text": [
      "                                                                                                                       \r"
     ]
    },
    {
     "name": "stdout",
     "output_type": "stream",
     "text": [
      "MoviePy - Done.\n",
      "Audio de E17F70c9.mp3 descargado correctamente\n",
      "Vídeo 27\n",
      "MoviePy - Writing audio in audios_de_trabajo/dI83EHEG.mp3\n"
     ]
    },
    {
     "name": "stderr",
     "output_type": "stream",
     "text": [
      "                                                                                                                       \r"
     ]
    },
    {
     "name": "stdout",
     "output_type": "stream",
     "text": [
      "MoviePy - Done.\n",
      "Audio de dI83EHEG.mp3 descargado correctamente\n",
      "Vídeo 28\n",
      "MoviePy - Writing audio in audios_de_trabajo/7CBf2CJ5.mp3\n"
     ]
    },
    {
     "name": "stderr",
     "output_type": "stream",
     "text": [
      "                                                                                                                       \r"
     ]
    },
    {
     "name": "stdout",
     "output_type": "stream",
     "text": [
      "MoviePy - Done.\n",
      "Audio de 7CBf2CJ5.mp3 descargado correctamente\n",
      "Vídeo 29\n",
      "MoviePy - Writing audio in audios_de_trabajo/h41iE78f.mp3\n"
     ]
    },
    {
     "name": "stderr",
     "output_type": "stream",
     "text": [
      "                                                                                                                       \r"
     ]
    },
    {
     "name": "stdout",
     "output_type": "stream",
     "text": [
      "MoviePy - Done.\n",
      "Audio de h41iE78f.mp3 descargado correctamente\n",
      "Vídeo 31\n",
      "MoviePy - Writing audio in audios_de_trabajo/F93CJaej.mp3\n"
     ]
    },
    {
     "name": "stderr",
     "output_type": "stream",
     "text": [
      "                                                                                                                       \r"
     ]
    },
    {
     "name": "stdout",
     "output_type": "stream",
     "text": [
      "MoviePy - Done.\n",
      "Audio de F93CJaej.mp3 descargado correctamente\n",
      "Vídeo 32\n",
      "MoviePy - Writing audio in audios_de_trabajo/fd07b782.mp3\n"
     ]
    },
    {
     "name": "stderr",
     "output_type": "stream",
     "text": [
      "                                                                                                                       \r"
     ]
    },
    {
     "name": "stdout",
     "output_type": "stream",
     "text": [
      "MoviePy - Done.\n",
      "Audio de fd07b782.mp3 descargado correctamente\n",
      "Vídeo 33\n",
      "MoviePy - Writing audio in audios_de_trabajo/785j8A3i.mp3\n"
     ]
    },
    {
     "name": "stderr",
     "output_type": "stream",
     "text": [
      "                                                                                                                       \r"
     ]
    },
    {
     "name": "stdout",
     "output_type": "stream",
     "text": [
      "MoviePy - Done.\n",
      "Audio de 785j8A3i.mp3 descargado correctamente\n",
      "Vídeo 34\n",
      "MoviePy - Writing audio in audios_de_trabajo/A8FaGIae.mp3\n"
     ]
    },
    {
     "name": "stderr",
     "output_type": "stream",
     "text": [
      "                                                                                                                       \r"
     ]
    },
    {
     "name": "stdout",
     "output_type": "stream",
     "text": [
      "MoviePy - Done.\n",
      "Audio de A8FaGIae.mp3 descargado correctamente\n",
      "Vídeo 35\n",
      "MoviePy - Writing audio in audios_de_trabajo/d9bF5Chd.mp3\n"
     ]
    },
    {
     "name": "stderr",
     "output_type": "stream",
     "text": [
      "                                                                                                                       \r"
     ]
    },
    {
     "name": "stdout",
     "output_type": "stream",
     "text": [
      "MoviePy - Done.\n",
      "Audio de d9bF5Chd.mp3 descargado correctamente\n",
      "Vídeo 36\n",
      "MoviePy - Writing audio in audios_de_trabajo/7fDHefeJ.mp3\n"
     ]
    },
    {
     "name": "stderr",
     "output_type": "stream",
     "text": [
      "                                                                                                                       \r"
     ]
    },
    {
     "name": "stdout",
     "output_type": "stream",
     "text": [
      "MoviePy - Done.\n",
      "Audio de 7fDHefeJ.mp3 descargado correctamente\n",
      "Vídeo 37\n",
      "MoviePy - Writing audio in audios_de_trabajo/cga5AF65.mp3\n"
     ]
    },
    {
     "name": "stderr",
     "output_type": "stream",
     "text": [
      "                                                                                                                       \r"
     ]
    },
    {
     "name": "stdout",
     "output_type": "stream",
     "text": [
      "MoviePy - Done.\n",
      "Audio de cga5AF65.mp3 descargado correctamente\n",
      "Vídeo 38\n",
      "MoviePy - Writing audio in audios_de_trabajo/CCI2acf0.mp3\n"
     ]
    },
    {
     "name": "stderr",
     "output_type": "stream",
     "text": [
      "                                                                                                                       \r"
     ]
    },
    {
     "name": "stdout",
     "output_type": "stream",
     "text": [
      "MoviePy - Done.\n",
      "Audio de CCI2acf0.mp3 descargado correctamente\n",
      "Vídeo 39\n",
      "MoviePy - Writing audio in audios_de_trabajo/5aDD88E7.mp3\n"
     ]
    },
    {
     "name": "stderr",
     "output_type": "stream",
     "text": [
      "                                                                                                                       \r"
     ]
    },
    {
     "name": "stdout",
     "output_type": "stream",
     "text": [
      "MoviePy - Done.\n",
      "Audio de 5aDD88E7.mp3 descargado correctamente\n",
      "Vídeo 40\n",
      "MoviePy - Writing audio in audios_de_trabajo/ahf1iafJ.mp3\n"
     ]
    },
    {
     "name": "stderr",
     "output_type": "stream",
     "text": [
      "                                                                                                                       \r"
     ]
    },
    {
     "name": "stdout",
     "output_type": "stream",
     "text": [
      "MoviePy - Done.\n",
      "Audio de ahf1iafJ.mp3 descargado correctamente\n",
      "Vídeo 41\n",
      "MoviePy - Writing audio in audios_de_trabajo/87dg2F2b.mp3\n"
     ]
    },
    {
     "name": "stderr",
     "output_type": "stream",
     "text": [
      "                                                                                                                       \r"
     ]
    },
    {
     "name": "stdout",
     "output_type": "stream",
     "text": [
      "MoviePy - Done.\n",
      "Audio de 87dg2F2b.mp3 descargado correctamente\n",
      "Vídeo 42\n",
      "MoviePy - Writing audio in audios_de_trabajo/f752g52A.mp3\n"
     ]
    },
    {
     "name": "stderr",
     "output_type": "stream",
     "text": [
      "                                                                                                                       \r"
     ]
    },
    {
     "name": "stdout",
     "output_type": "stream",
     "text": [
      "MoviePy - Done.\n",
      "Audio de f752g52A.mp3 descargado correctamente\n",
      "Vídeo 43\n",
      "MoviePy - Writing audio in audios_de_trabajo/e59768CJ.mp3\n"
     ]
    },
    {
     "name": "stderr",
     "output_type": "stream",
     "text": [
      "                                                                                                                       \r"
     ]
    },
    {
     "name": "stdout",
     "output_type": "stream",
     "text": [
      "MoviePy - Done.\n",
      "Audio de e59768CJ.mp3 descargado correctamente\n",
      "Vídeo 44\n",
      "MoviePy - Writing audio in audios_de_trabajo/3JEIB4Da.mp3\n"
     ]
    },
    {
     "name": "stderr",
     "output_type": "stream",
     "text": [
      "                                                                                                                       \r"
     ]
    },
    {
     "name": "stdout",
     "output_type": "stream",
     "text": [
      "MoviePy - Done.\n",
      "Audio de 3JEIB4Da.mp3 descargado correctamente\n",
      "Vídeo 45\n",
      "MoviePy - Writing audio in audios_de_trabajo/hiCBabd0.mp3\n"
     ]
    },
    {
     "name": "stderr",
     "output_type": "stream",
     "text": [
      "                                                                                                                       \r"
     ]
    },
    {
     "name": "stdout",
     "output_type": "stream",
     "text": [
      "MoviePy - Done.\n",
      "Audio de hiCBabd0.mp3 descargado correctamente\n",
      "Vídeo 46\n",
      "MoviePy - Writing audio in audios_de_trabajo/B2CdJGj7.mp3\n"
     ]
    },
    {
     "name": "stderr",
     "output_type": "stream",
     "text": [
      "                                                                                                                       \r"
     ]
    },
    {
     "name": "stdout",
     "output_type": "stream",
     "text": [
      "MoviePy - Done.\n",
      "Audio de B2CdJGj7.mp3 descargado correctamente\n",
      "Vídeo 47\n",
      "MoviePy - Writing audio in audios_de_trabajo/IcA76E79.mp3\n"
     ]
    },
    {
     "name": "stderr",
     "output_type": "stream",
     "text": [
      "                                                                                                                       \r"
     ]
    },
    {
     "name": "stdout",
     "output_type": "stream",
     "text": [
      "MoviePy - Done.\n",
      "Audio de IcA76E79.mp3 descargado correctamente\n",
      "Vídeo 48\n",
      "MoviePy - Writing audio in audios_de_trabajo/94j1fIEF.mp3\n"
     ]
    },
    {
     "name": "stderr",
     "output_type": "stream",
     "text": [
      "                                                                                                                       \r"
     ]
    },
    {
     "name": "stdout",
     "output_type": "stream",
     "text": [
      "MoviePy - Done.\n",
      "Audio de 94j1fIEF.mp3 descargado correctamente\n",
      "Vídeo 49\n",
      "MoviePy - Writing audio in audios_de_trabajo/aaFI73EB.mp3\n"
     ]
    },
    {
     "name": "stderr",
     "output_type": "stream",
     "text": [
      "                                                                                                                       \r"
     ]
    },
    {
     "name": "stdout",
     "output_type": "stream",
     "text": [
      "MoviePy - Done.\n",
      "Audio de aaFI73EB.mp3 descargado correctamente\n",
      "Vídeo 50\n",
      "MoviePy - Writing audio in audios_de_trabajo/2Fae90FE.mp3\n"
     ]
    },
    {
     "name": "stderr",
     "output_type": "stream",
     "text": [
      "                                                                                                                       \r"
     ]
    },
    {
     "name": "stdout",
     "output_type": "stream",
     "text": [
      "MoviePy - Done.\n",
      "Audio de 2Fae90FE.mp3 descargado correctamente\n",
      "Vídeo 51\n",
      "MoviePy - Writing audio in audios_de_trabajo/dAjFd403.mp3\n"
     ]
    },
    {
     "name": "stderr",
     "output_type": "stream",
     "text": [
      "                                                                                                                       \r"
     ]
    },
    {
     "name": "stdout",
     "output_type": "stream",
     "text": [
      "MoviePy - Done.\n",
      "Audio de dAjFd403.mp3 descargado correctamente\n",
      "Vídeo 52\n",
      "MoviePy - Writing audio in audios_de_trabajo/j024HdfF.mp3\n"
     ]
    },
    {
     "name": "stderr",
     "output_type": "stream",
     "text": [
      "                                                                                                                       \r"
     ]
    },
    {
     "name": "stdout",
     "output_type": "stream",
     "text": [
      "MoviePy - Done.\n",
      "Audio de j024HdfF.mp3 descargado correctamente\n",
      "Vídeo 53\n",
      "MoviePy - Writing audio in audios_de_trabajo/ecFF5HjH.mp3\n"
     ]
    },
    {
     "name": "stderr",
     "output_type": "stream",
     "text": [
      "                                                                                                                       \r"
     ]
    },
    {
     "name": "stdout",
     "output_type": "stream",
     "text": [
      "MoviePy - Done.\n",
      "Audio de ecFF5HjH.mp3 descargado correctamente\n",
      "Vídeo 54\n",
      "MoviePy - Writing audio in audios_de_trabajo/D53CEb4h.mp3\n"
     ]
    },
    {
     "name": "stderr",
     "output_type": "stream",
     "text": [
      "                                                                                                                       \r"
     ]
    },
    {
     "name": "stdout",
     "output_type": "stream",
     "text": [
      "MoviePy - Done.\n",
      "Audio de D53CEb4h.mp3 descargado correctamente\n",
      "Vídeo 55\n",
      "MoviePy - Writing audio in audios_de_trabajo/1EEEFEjj.mp3\n"
     ]
    },
    {
     "name": "stderr",
     "output_type": "stream",
     "text": [
      "                                                                                                                       \r"
     ]
    },
    {
     "name": "stdout",
     "output_type": "stream",
     "text": [
      "MoviePy - Done.\n",
      "Audio de 1EEEFEjj.mp3 descargado correctamente\n",
      "Vídeo 56\n",
      "MoviePy - Writing audio in audios_de_trabajo/a48D2Bj8.mp3\n"
     ]
    },
    {
     "name": "stderr",
     "output_type": "stream",
     "text": [
      "                                                                                                                       \r"
     ]
    },
    {
     "name": "stdout",
     "output_type": "stream",
     "text": [
      "MoviePy - Done.\n",
      "Audio de a48D2Bj8.mp3 descargado correctamente\n",
      "Vídeo 57\n",
      "MoviePy - Writing audio in audios_de_trabajo/4Dc3IAJ6.mp3\n"
     ]
    },
    {
     "name": "stderr",
     "output_type": "stream",
     "text": [
      "                                                                                                                       \r"
     ]
    },
    {
     "name": "stdout",
     "output_type": "stream",
     "text": [
      "MoviePy - Done.\n",
      "Audio de 4Dc3IAJ6.mp3 descargado correctamente\n",
      "Vídeo 58\n",
      "MoviePy - Writing audio in audios_de_trabajo/C1ghed3D.mp3\n"
     ]
    },
    {
     "name": "stderr",
     "output_type": "stream",
     "text": [
      "                                                                                                                       \r"
     ]
    },
    {
     "name": "stdout",
     "output_type": "stream",
     "text": [
      "MoviePy - Done.\n",
      "Audio de C1ghed3D.mp3 descargado correctamente\n",
      "Vídeo 59\n",
      "MoviePy - Writing audio in audios_de_trabajo/8DdBEDbA.mp3\n"
     ]
    },
    {
     "name": "stderr",
     "output_type": "stream",
     "text": [
      "                                                                                                                       \r"
     ]
    },
    {
     "name": "stdout",
     "output_type": "stream",
     "text": [
      "MoviePy - Done.\n",
      "Audio de 8DdBEDbA.mp3 descargado correctamente\n",
      "Vídeo 60\n",
      "MoviePy - Writing audio in audios_de_trabajo/Gg2Dahcj.mp3\n"
     ]
    },
    {
     "name": "stderr",
     "output_type": "stream",
     "text": [
      "                                                                                                                       \r"
     ]
    },
    {
     "name": "stdout",
     "output_type": "stream",
     "text": [
      "MoviePy - Done.\n",
      "Audio de Gg2Dahcj.mp3 descargado correctamente\n",
      "Vídeo 61\n",
      "MoviePy - Writing audio in audios_de_trabajo/ef9j92cC.mp3\n"
     ]
    },
    {
     "name": "stderr",
     "output_type": "stream",
     "text": [
      "                                                                                                                       \r"
     ]
    },
    {
     "name": "stdout",
     "output_type": "stream",
     "text": [
      "MoviePy - Done.\n",
      "Audio de ef9j92cC.mp3 descargado correctamente\n",
      "Vídeo 62\n",
      "MoviePy - Writing audio in audios_de_trabajo/84g11CaF.mp3\n"
     ]
    },
    {
     "name": "stderr",
     "output_type": "stream",
     "text": [
      "                                                                                                                       \r"
     ]
    },
    {
     "name": "stdout",
     "output_type": "stream",
     "text": [
      "MoviePy - Done.\n",
      "Audio de 84g11CaF.mp3 descargado correctamente\n",
      "Vídeo 63\n",
      "MoviePy - Writing audio in audios_de_trabajo/ejGEifaf.mp3\n"
     ]
    },
    {
     "name": "stderr",
     "output_type": "stream",
     "text": [
      "                                                                                                                       \r"
     ]
    },
    {
     "name": "stdout",
     "output_type": "stream",
     "text": [
      "MoviePy - Done.\n",
      "Audio de ejGEifaf.mp3 descargado correctamente\n",
      "Vídeo 64\n",
      "MoviePy - Writing audio in audios_de_trabajo/G4f4edFF.mp3\n"
     ]
    },
    {
     "name": "stderr",
     "output_type": "stream",
     "text": [
      "                                                                                                                       \r"
     ]
    },
    {
     "name": "stdout",
     "output_type": "stream",
     "text": [
      "MoviePy - Done.\n",
      "Audio de G4f4edFF.mp3 descargado correctamente\n",
      "Vídeo 65\n",
      "MoviePy - Writing audio in audios_de_trabajo/jbejiAif.mp3\n"
     ]
    },
    {
     "name": "stderr",
     "output_type": "stream",
     "text": [
      "                                                                                                                       \r"
     ]
    },
    {
     "name": "stdout",
     "output_type": "stream",
     "text": [
      "MoviePy - Done.\n",
      "Audio de jbejiAif.mp3 descargado correctamente\n",
      "Vídeo 66\n",
      "MoviePy - Writing audio in audios_de_trabajo/dDh69EDC.mp3\n"
     ]
    },
    {
     "name": "stderr",
     "output_type": "stream",
     "text": [
      "                                                                                                                       \r"
     ]
    },
    {
     "name": "stdout",
     "output_type": "stream",
     "text": [
      "MoviePy - Done.\n",
      "Audio de dDh69EDC.mp3 descargado correctamente\n",
      "Vídeo 67\n",
      "MoviePy - Writing audio in audios_de_trabajo/idFafF2g.mp3\n"
     ]
    },
    {
     "name": "stderr",
     "output_type": "stream",
     "text": [
      "                                                                                                                       \r"
     ]
    },
    {
     "name": "stdout",
     "output_type": "stream",
     "text": [
      "MoviePy - Done.\n",
      "Audio de idFafF2g.mp3 descargado correctamente\n",
      "Vídeo 68\n",
      "MoviePy - Writing audio in audios_de_trabajo/7EiaJc4C.mp3\n"
     ]
    },
    {
     "name": "stderr",
     "output_type": "stream",
     "text": [
      "                                                                                                                       \r"
     ]
    },
    {
     "name": "stdout",
     "output_type": "stream",
     "text": [
      "MoviePy - Done.\n",
      "Audio de 7EiaJc4C.mp3 descargado correctamente\n",
      "Vídeo 69\n",
      "MoviePy - Writing audio in audios_de_trabajo/ci7G91eg.mp3\n"
     ]
    },
    {
     "name": "stderr",
     "output_type": "stream",
     "text": [
      "                                                                                                                       \r"
     ]
    },
    {
     "name": "stdout",
     "output_type": "stream",
     "text": [
      "MoviePy - Done.\n",
      "Audio de ci7G91eg.mp3 descargado correctamente\n",
      "Vídeo 70\n",
      "MoviePy - Writing audio in audios_de_trabajo/eJAGH3Bh.mp3\n"
     ]
    },
    {
     "name": "stderr",
     "output_type": "stream",
     "text": [
      "                                                                                                                       \r"
     ]
    },
    {
     "name": "stdout",
     "output_type": "stream",
     "text": [
      "MoviePy - Done.\n",
      "Audio de eJAGH3Bh.mp3 descargado correctamente\n",
      "Vídeo 71\n",
      "MoviePy - Writing audio in audios_de_trabajo/3bDb3FHd.mp3\n"
     ]
    },
    {
     "name": "stderr",
     "output_type": "stream",
     "text": [
      "                                                                                                                       \r"
     ]
    },
    {
     "name": "stdout",
     "output_type": "stream",
     "text": [
      "MoviePy - Done.\n",
      "Audio de 3bDb3FHd.mp3 descargado correctamente\n",
      "Vídeo 72\n",
      "MoviePy - Writing audio in audios_de_trabajo/5j36b7cE.mp3\n"
     ]
    },
    {
     "name": "stderr",
     "output_type": "stream",
     "text": [
      "                                                                                                                       \r"
     ]
    },
    {
     "name": "stdout",
     "output_type": "stream",
     "text": [
      "MoviePy - Done.\n",
      "Audio de 5j36b7cE.mp3 descargado correctamente\n",
      "Vídeo 73\n",
      "MoviePy - Writing audio in audios_de_trabajo/JI3DbIhC.mp3\n"
     ]
    },
    {
     "name": "stderr",
     "output_type": "stream",
     "text": [
      "                                                                                                                       \r"
     ]
    },
    {
     "name": "stdout",
     "output_type": "stream",
     "text": [
      "MoviePy - Done.\n",
      "Audio de JI3DbIhC.mp3 descargado correctamente\n",
      "Vídeo 74\n",
      "MoviePy - Writing audio in audios_de_trabajo/GD6biGGH.mp3\n"
     ]
    },
    {
     "name": "stderr",
     "output_type": "stream",
     "text": [
      "                                                                                                                       \r"
     ]
    },
    {
     "name": "stdout",
     "output_type": "stream",
     "text": [
      "MoviePy - Done.\n",
      "Audio de GD6biGGH.mp3 descargado correctamente\n",
      "Vídeo 75\n",
      "MoviePy - Writing audio in audios_de_trabajo/CJ4dbd4f.mp3\n"
     ]
    },
    {
     "name": "stderr",
     "output_type": "stream",
     "text": [
      "                                                                                                                       \r"
     ]
    },
    {
     "name": "stdout",
     "output_type": "stream",
     "text": [
      "MoviePy - Done.\n",
      "Audio de CJ4dbd4f.mp3 descargado correctamente\n",
      "Vídeo 76\n",
      "MoviePy - Writing audio in audios_de_trabajo/j52I15FB.mp3\n"
     ]
    },
    {
     "name": "stderr",
     "output_type": "stream",
     "text": [
      "                                                                                                                       \r"
     ]
    },
    {
     "name": "stdout",
     "output_type": "stream",
     "text": [
      "MoviePy - Done.\n",
      "Audio de j52I15FB.mp3 descargado correctamente\n",
      "Vídeo 77\n",
      "MoviePy - Writing audio in audios_de_trabajo/F2FA0cFD.mp3\n"
     ]
    },
    {
     "name": "stderr",
     "output_type": "stream",
     "text": [
      "                                                                                                                       \r"
     ]
    },
    {
     "name": "stdout",
     "output_type": "stream",
     "text": [
      "MoviePy - Done.\n",
      "Audio de F2FA0cFD.mp3 descargado correctamente\n",
      "Vídeo 78\n",
      "MoviePy - Writing audio in audios_de_trabajo/ajD2i768.mp3\n"
     ]
    },
    {
     "name": "stderr",
     "output_type": "stream",
     "text": [
      "                                                                                                                       \r"
     ]
    },
    {
     "name": "stdout",
     "output_type": "stream",
     "text": [
      "MoviePy - Done.\n",
      "Audio de ajD2i768.mp3 descargado correctamente\n",
      "Vídeo 79\n",
      "MoviePy - Writing audio in audios_de_trabajo/ICBCjJ0g.mp3\n"
     ]
    },
    {
     "name": "stderr",
     "output_type": "stream",
     "text": [
      "                                                                                                                       \r"
     ]
    },
    {
     "name": "stdout",
     "output_type": "stream",
     "text": [
      "MoviePy - Done.\n",
      "Audio de ICBCjJ0g.mp3 descargado correctamente\n",
      "Vídeo 80\n",
      "MoviePy - Writing audio in audios_de_trabajo/G09E71fA.mp3\n"
     ]
    },
    {
     "name": "stderr",
     "output_type": "stream",
     "text": [
      "                                                                                                                       \r"
     ]
    },
    {
     "name": "stdout",
     "output_type": "stream",
     "text": [
      "MoviePy - Done.\n",
      "Audio de G09E71fA.mp3 descargado correctamente\n",
      "Vídeo 81\n",
      "MoviePy - Writing audio in audios_de_trabajo/7B95jfi2.mp3\n"
     ]
    },
    {
     "name": "stderr",
     "output_type": "stream",
     "text": [
      "                                                                                                                       \r"
     ]
    },
    {
     "name": "stdout",
     "output_type": "stream",
     "text": [
      "MoviePy - Done.\n",
      "Audio de 7B95jfi2.mp3 descargado correctamente\n",
      "Vídeo 82\n",
      "MoviePy - Writing audio in audios_de_trabajo/ag6657c0.mp3\n"
     ]
    },
    {
     "name": "stderr",
     "output_type": "stream",
     "text": [
      "                                                                                                                       \r"
     ]
    },
    {
     "name": "stdout",
     "output_type": "stream",
     "text": [
      "MoviePy - Done.\n",
      "Audio de ag6657c0.mp3 descargado correctamente\n",
      "Vídeo 83\n",
      "MoviePy - Writing audio in audios_de_trabajo/CeAEC5GC.mp3\n"
     ]
    },
    {
     "name": "stderr",
     "output_type": "stream",
     "text": [
      "                                                                                                                       \r"
     ]
    },
    {
     "name": "stdout",
     "output_type": "stream",
     "text": [
      "MoviePy - Done.\n",
      "Audio de CeAEC5GC.mp3 descargado correctamente\n",
      "Vídeo 84\n",
      "MoviePy - Writing audio in audios_de_trabajo/IHja33HH.mp3\n"
     ]
    },
    {
     "name": "stderr",
     "output_type": "stream",
     "text": [
      "                                                                                                                       \r"
     ]
    },
    {
     "name": "stdout",
     "output_type": "stream",
     "text": [
      "MoviePy - Done.\n",
      "Audio de IHja33HH.mp3 descargado correctamente\n",
      "Vídeo 85\n",
      "MoviePy - Writing audio in audios_de_trabajo/g70hgI4G.mp3\n"
     ]
    },
    {
     "name": "stderr",
     "output_type": "stream",
     "text": [
      "                                                                                                                       \r"
     ]
    },
    {
     "name": "stdout",
     "output_type": "stream",
     "text": [
      "MoviePy - Done.\n",
      "Audio de g70hgI4G.mp3 descargado correctamente\n",
      "Vídeo 86\n",
      "MoviePy - Writing audio in audios_de_trabajo/f9he7F6e.mp3\n"
     ]
    },
    {
     "name": "stderr",
     "output_type": "stream",
     "text": [
      "                                                                                                                       \r"
     ]
    },
    {
     "name": "stdout",
     "output_type": "stream",
     "text": [
      "MoviePy - Done.\n",
      "Audio de f9he7F6e.mp3 descargado correctamente\n",
      "Vídeo 87\n",
      "MoviePy - Writing audio in audios_de_trabajo/i45cHA1a.mp3\n"
     ]
    },
    {
     "name": "stderr",
     "output_type": "stream",
     "text": [
      "                                                                                                                       \r"
     ]
    },
    {
     "name": "stdout",
     "output_type": "stream",
     "text": [
      "MoviePy - Done.\n",
      "Audio de i45cHA1a.mp3 descargado correctamente\n",
      "Vídeo 88\n",
      "MoviePy - Writing audio in audios_de_trabajo/c7Hb6CB6.mp3\n"
     ]
    },
    {
     "name": "stderr",
     "output_type": "stream",
     "text": [
      "                                                                                                                       \r"
     ]
    },
    {
     "name": "stdout",
     "output_type": "stream",
     "text": [
      "MoviePy - Done.\n",
      "Audio de c7Hb6CB6.mp3 descargado correctamente\n",
      "Vídeo 89\n",
      "MoviePy - Writing audio in audios_de_trabajo/a7b4cGbC.mp3\n"
     ]
    },
    {
     "name": "stderr",
     "output_type": "stream",
     "text": [
      "                                                                                                                       \r"
     ]
    },
    {
     "name": "stdout",
     "output_type": "stream",
     "text": [
      "MoviePy - Done.\n",
      "Audio de a7b4cGbC.mp3 descargado correctamente\n",
      "Vídeo 90\n",
      "MoviePy - Writing audio in audios_de_trabajo/HhIJ4h0E.mp3\n"
     ]
    },
    {
     "name": "stderr",
     "output_type": "stream",
     "text": [
      "                                                                                                                       \r"
     ]
    },
    {
     "name": "stdout",
     "output_type": "stream",
     "text": [
      "MoviePy - Done.\n",
      "Audio de HhIJ4h0E.mp3 descargado correctamente\n",
      "Vídeo 91\n",
      "MoviePy - Writing audio in audios_de_trabajo/6A6e01Fd.mp3\n"
     ]
    },
    {
     "name": "stderr",
     "output_type": "stream",
     "text": [
      "                                                                                                                       \r"
     ]
    },
    {
     "name": "stdout",
     "output_type": "stream",
     "text": [
      "MoviePy - Done.\n",
      "Audio de 6A6e01Fd.mp3 descargado correctamente\n",
      "Vídeo 100\n",
      "MoviePy - Writing audio in audios_de_trabajo/e099Hi5f.mp3\n"
     ]
    },
    {
     "name": "stderr",
     "output_type": "stream",
     "text": [
      "                                                                                                                       \r"
     ]
    },
    {
     "name": "stdout",
     "output_type": "stream",
     "text": [
      "MoviePy - Done.\n",
      "Audio de e099Hi5f.mp3 descargado correctamente\n",
      "Vídeo 101\n",
      "MoviePy - Writing audio in audios_de_trabajo/C02d15A1.mp3\n"
     ]
    },
    {
     "name": "stderr",
     "output_type": "stream",
     "text": [
      "                                                                                                                       \r"
     ]
    },
    {
     "name": "stdout",
     "output_type": "stream",
     "text": [
      "MoviePy - Done.\n",
      "Audio de C02d15A1.mp3 descargado correctamente\n",
      "Vídeo 102\n",
      "MoviePy - Writing audio in audios_de_trabajo/iF61hF39.mp3\n"
     ]
    },
    {
     "name": "stderr",
     "output_type": "stream",
     "text": [
      "                                                                                                                       \r"
     ]
    },
    {
     "name": "stdout",
     "output_type": "stream",
     "text": [
      "MoviePy - Done.\n",
      "Audio de iF61hF39.mp3 descargado correctamente\n",
      "Vídeo 103\n",
      "MoviePy - Writing audio in audios_de_trabajo/Igf2BG30.mp3\n"
     ]
    },
    {
     "name": "stderr",
     "output_type": "stream",
     "text": [
      "                                                                                                                       \r"
     ]
    },
    {
     "name": "stdout",
     "output_type": "stream",
     "text": [
      "MoviePy - Done.\n",
      "Audio de Igf2BG30.mp3 descargado correctamente\n",
      "Vídeo 104\n",
      "MoviePy - Writing audio in audios_de_trabajo/1Dejh64c.mp3\n"
     ]
    },
    {
     "name": "stderr",
     "output_type": "stream",
     "text": [
      "                                                                                                                       \r"
     ]
    },
    {
     "name": "stdout",
     "output_type": "stream",
     "text": [
      "MoviePy - Done.\n",
      "Audio de 1Dejh64c.mp3 descargado correctamente\n",
      "Vídeo 105\n",
      "MoviePy - Writing audio in audios_de_trabajo/0BgIhE3G.mp3\n"
     ]
    },
    {
     "name": "stderr",
     "output_type": "stream",
     "text": [
      "                                                                                                                       \r"
     ]
    },
    {
     "name": "stdout",
     "output_type": "stream",
     "text": [
      "MoviePy - Done.\n",
      "Audio de 0BgIhE3G.mp3 descargado correctamente\n",
      "Vídeo 106\n",
      "MoviePy - Writing audio in audios_de_trabajo/74j5G2fG.mp3\n"
     ]
    },
    {
     "name": "stderr",
     "output_type": "stream",
     "text": [
      "                                                                                                                       \r"
     ]
    },
    {
     "name": "stdout",
     "output_type": "stream",
     "text": [
      "MoviePy - Done.\n",
      "Audio de 74j5G2fG.mp3 descargado correctamente\n",
      "Vídeo 107\n",
      "MoviePy - Writing audio in audios_de_trabajo/0H1HdJeA.mp3\n"
     ]
    },
    {
     "name": "stderr",
     "output_type": "stream",
     "text": [
      "                                                                                                                       \r"
     ]
    },
    {
     "name": "stdout",
     "output_type": "stream",
     "text": [
      "MoviePy - Done.\n",
      "Audio de 0H1HdJeA.mp3 descargado correctamente\n",
      "Vídeo 108\n",
      "MoviePy - Writing audio in audios_de_trabajo/6AfDbBib.mp3\n"
     ]
    },
    {
     "name": "stderr",
     "output_type": "stream",
     "text": [
      "                                                                                                                       \r"
     ]
    },
    {
     "name": "stdout",
     "output_type": "stream",
     "text": [
      "MoviePy - Done.\n",
      "Audio de 6AfDbBib.mp3 descargado correctamente\n",
      "Vídeo 109\n",
      "MoviePy - Writing audio in audios_de_trabajo/609956f9.mp3\n"
     ]
    },
    {
     "name": "stderr",
     "output_type": "stream",
     "text": [
      "                                                                                                                       \r"
     ]
    },
    {
     "name": "stdout",
     "output_type": "stream",
     "text": [
      "MoviePy - Done.\n",
      "Audio de 609956f9.mp3 descargado correctamente\n",
      "Vídeo 110\n",
      "MoviePy - Writing audio in audios_de_trabajo/hg521AF9.mp3\n"
     ]
    },
    {
     "name": "stderr",
     "output_type": "stream",
     "text": [
      "                                                                                                                       \r"
     ]
    },
    {
     "name": "stdout",
     "output_type": "stream",
     "text": [
      "MoviePy - Done.\n",
      "Audio de hg521AF9.mp3 descargado correctamente\n",
      "Vídeo 111\n",
      "MoviePy - Writing audio in audios_de_trabajo/F0Bi1E15.mp3\n"
     ]
    },
    {
     "name": "stderr",
     "output_type": "stream",
     "text": [
      "                                                                                                                       \r"
     ]
    },
    {
     "name": "stdout",
     "output_type": "stream",
     "text": [
      "MoviePy - Done.\n",
      "Audio de F0Bi1E15.mp3 descargado correctamente\n",
      "Vídeo 112\n",
      "MoviePy - Writing audio in audios_de_trabajo/9b86e8dA.mp3\n"
     ]
    },
    {
     "name": "stderr",
     "output_type": "stream",
     "text": [
      "                                                                                                                       \r"
     ]
    },
    {
     "name": "stdout",
     "output_type": "stream",
     "text": [
      "MoviePy - Done.\n",
      "Audio de 9b86e8dA.mp3 descargado correctamente\n",
      "Vídeo 113\n",
      "MoviePy - Writing audio in audios_de_trabajo/FDD2GJ62.mp3\n"
     ]
    },
    {
     "name": "stderr",
     "output_type": "stream",
     "text": [
      "                                                                                                                       \r"
     ]
    },
    {
     "name": "stdout",
     "output_type": "stream",
     "text": [
      "MoviePy - Done.\n",
      "Audio de FDD2GJ62.mp3 descargado correctamente\n",
      "Vídeo 114\n",
      "MoviePy - Writing audio in audios_de_trabajo/5eFb3e0I.mp3\n"
     ]
    },
    {
     "name": "stderr",
     "output_type": "stream",
     "text": [
      "                                                                                                                       \r"
     ]
    },
    {
     "name": "stdout",
     "output_type": "stream",
     "text": [
      "MoviePy - Done.\n",
      "Audio de 5eFb3e0I.mp3 descargado correctamente\n",
      "Vídeo 115\n",
      "MoviePy - Writing audio in audios_de_trabajo/Jg6hcg36.mp3\n"
     ]
    },
    {
     "name": "stderr",
     "output_type": "stream",
     "text": [
      "                                                                                                                       \r"
     ]
    },
    {
     "name": "stdout",
     "output_type": "stream",
     "text": [
      "MoviePy - Done.\n",
      "Audio de Jg6hcg36.mp3 descargado correctamente\n",
      "Vídeo 116\n",
      "MoviePy - Writing audio in audios_de_trabajo/D5i0HDCI.mp3\n"
     ]
    },
    {
     "name": "stderr",
     "output_type": "stream",
     "text": [
      "                                                                                                                       \r"
     ]
    },
    {
     "name": "stdout",
     "output_type": "stream",
     "text": [
      "MoviePy - Done.\n",
      "Audio de D5i0HDCI.mp3 descargado correctamente\n",
      "Vídeo 117\n",
      "MoviePy - Writing audio in audios_de_trabajo/549iJA6e.mp3\n"
     ]
    },
    {
     "name": "stderr",
     "output_type": "stream",
     "text": [
      "                                                                                                                       \r"
     ]
    },
    {
     "name": "stdout",
     "output_type": "stream",
     "text": [
      "MoviePy - Done.\n",
      "Audio de 549iJA6e.mp3 descargado correctamente\n",
      "Vídeo 118\n",
      "MoviePy - Writing audio in audios_de_trabajo/3EhDGc23.mp3\n"
     ]
    },
    {
     "name": "stderr",
     "output_type": "stream",
     "text": [
      "                                                                                                                       \r"
     ]
    },
    {
     "name": "stdout",
     "output_type": "stream",
     "text": [
      "MoviePy - Done.\n",
      "Audio de 3EhDGc23.mp3 descargado correctamente\n",
      "Vídeo 119\n",
      "MoviePy - Writing audio in audios_de_trabajo/8CDfddHF.mp3\n"
     ]
    },
    {
     "name": "stderr",
     "output_type": "stream",
     "text": [
      "                                                                                                                       \r"
     ]
    },
    {
     "name": "stdout",
     "output_type": "stream",
     "text": [
      "MoviePy - Done.\n",
      "Audio de 8CDfddHF.mp3 descargado correctamente\n",
      "Vídeo 120\n",
      "MoviePy - Writing audio in audios_de_trabajo/E8i00a41.mp3\n"
     ]
    },
    {
     "name": "stderr",
     "output_type": "stream",
     "text": [
      "                                                                                                                       \r"
     ]
    },
    {
     "name": "stdout",
     "output_type": "stream",
     "text": [
      "MoviePy - Done.\n",
      "Audio de E8i00a41.mp3 descargado correctamente\n",
      "Vídeo 121\n",
      "MoviePy - Writing audio in audios_de_trabajo/37gD9fhA.mp3\n"
     ]
    },
    {
     "name": "stderr",
     "output_type": "stream",
     "text": [
      "                                                                                                                       \r"
     ]
    },
    {
     "name": "stdout",
     "output_type": "stream",
     "text": [
      "MoviePy - Done.\n",
      "Audio de 37gD9fhA.mp3 descargado correctamente\n",
      "Vídeo 122\n",
      "MoviePy - Writing audio in audios_de_trabajo/CJB21ie4.mp3\n"
     ]
    },
    {
     "name": "stderr",
     "output_type": "stream",
     "text": [
      "                                                                                                                       \r"
     ]
    },
    {
     "name": "stdout",
     "output_type": "stream",
     "text": [
      "MoviePy - Done.\n",
      "Audio de CJB21ie4.mp3 descargado correctamente\n",
      "Vídeo 123\n",
      "MoviePy - Writing audio in audios_de_trabajo/c9aG8b2G.mp3\n"
     ]
    },
    {
     "name": "stderr",
     "output_type": "stream",
     "text": [
      "                                                                                                                       \r"
     ]
    },
    {
     "name": "stdout",
     "output_type": "stream",
     "text": [
      "MoviePy - Done.\n",
      "Audio de c9aG8b2G.mp3 descargado correctamente\n",
      "Vídeo 124\n",
      "MoviePy - Writing audio in audios_de_trabajo/jid57dhC.mp3\n"
     ]
    },
    {
     "name": "stderr",
     "output_type": "stream",
     "text": [
      "                                                                                                                       \r"
     ]
    },
    {
     "name": "stdout",
     "output_type": "stream",
     "text": [
      "MoviePy - Done.\n",
      "Audio de jid57dhC.mp3 descargado correctamente\n",
      "Vídeo 125\n",
      "MoviePy - Writing audio in audios_de_trabajo/hh3d28E2.mp3\n"
     ]
    },
    {
     "name": "stderr",
     "output_type": "stream",
     "text": [
      "                                                                                                                       \r"
     ]
    },
    {
     "name": "stdout",
     "output_type": "stream",
     "text": [
      "MoviePy - Done.\n",
      "Audio de hh3d28E2.mp3 descargado correctamente\n",
      "Vídeo 126\n",
      "MoviePy - Writing audio in audios_de_trabajo/2aI3a4j3.mp3\n"
     ]
    },
    {
     "name": "stderr",
     "output_type": "stream",
     "text": [
      "                                                                                                                       \r"
     ]
    },
    {
     "name": "stdout",
     "output_type": "stream",
     "text": [
      "MoviePy - Done.\n",
      "Audio de 2aI3a4j3.mp3 descargado correctamente\n",
      "Vídeo 127\n",
      "MoviePy - Writing audio in audios_de_trabajo/4i31iED8.mp3\n"
     ]
    },
    {
     "name": "stderr",
     "output_type": "stream",
     "text": [
      "                                                                                                                       \r"
     ]
    },
    {
     "name": "stdout",
     "output_type": "stream",
     "text": [
      "MoviePy - Done.\n",
      "Audio de 4i31iED8.mp3 descargado correctamente\n",
      "Vídeo 128\n"
     ]
    }
   ],
   "source": [
    "def downloadVideo_GetSound (url_link, nombre_destino): \n",
    "    \"\"\"\n",
    "    Link in string \n",
    "    \"\"\"\n",
    "    ##Descargar vídeo\n",
    "    urllib.request.urlretrieve(url_link, f'audios_de_trabajo/video1.mp4') \n",
    "    #Cargamos el fichero .mp4\n",
    "    clip = mp.VideoFileClip(f'audios_de_trabajo/video1.mp4')\n",
    "    \n",
    "    #Lo escribimos como audio y `.mp3`\n",
    "    clip.audio.write_audiofile(f\"audios_de_trabajo/{nombre_destino}.mp3\")\n",
    "    print(f'Audio de {nombre_destino}.mp3 descargado correctamente')\n",
    "videos_codigo = pd.read_csv('codigo_videos.csv')\n",
    "for index,row in videos_codigo.iterrows():\n",
    "    url_codigo = row['url']\n",
    "    if pd.isna(url_codigo):\n",
    "        pass\n",
    "    else:\n",
    "        url_link = f'https://medial.mondragon.edu/flash/{url_codigo}_hd.mp4'\n",
    "        print(f'Vídeo {index}')\n",
    "        downloadVideo_GetSound (url_link = url_link, nombre_destino = url_codigo)"
   ]
  },
  {
   "cell_type": "code",
   "execution_count": 9,
   "id": "d3c08087-eaa7-444f-bb21-0897fb03425a",
   "metadata": {},
   "outputs": [
    {
     "name": "stdout",
     "output_type": "stream",
     "text": [
      "Vídeo 128\n",
      "MoviePy - Writing audio in audios_de_trabajo/9aJ9je3e.mp3\n"
     ]
    },
    {
     "name": "stderr",
     "output_type": "stream",
     "text": [
      "                                                                                                                       \r"
     ]
    },
    {
     "name": "stdout",
     "output_type": "stream",
     "text": [
      "MoviePy - Done.\n",
      "Audio de 9aJ9je3e.mp3 descargado correctamente\n",
      "Vídeo 129\n",
      "MoviePy - Writing audio in audios_de_trabajo/IfBid1B7.mp3\n"
     ]
    },
    {
     "name": "stderr",
     "output_type": "stream",
     "text": [
      "                                                                                                                       \r"
     ]
    },
    {
     "name": "stdout",
     "output_type": "stream",
     "text": [
      "MoviePy - Done.\n",
      "Audio de IfBid1B7.mp3 descargado correctamente\n",
      "Vídeo 130\n",
      "MoviePy - Writing audio in audios_de_trabajo/I1b0ci21.mp3\n"
     ]
    },
    {
     "name": "stderr",
     "output_type": "stream",
     "text": [
      "                                                                                                                       \r"
     ]
    },
    {
     "name": "stdout",
     "output_type": "stream",
     "text": [
      "MoviePy - Done.\n",
      "Audio de I1b0ci21.mp3 descargado correctamente\n",
      "Vídeo 131\n",
      "MoviePy - Writing audio in audios_de_trabajo/29gJCBfc.mp3\n"
     ]
    },
    {
     "name": "stderr",
     "output_type": "stream",
     "text": [
      "                                                                                                                       \r"
     ]
    },
    {
     "name": "stdout",
     "output_type": "stream",
     "text": [
      "MoviePy - Done.\n",
      "Audio de 29gJCBfc.mp3 descargado correctamente\n",
      "Vídeo 132\n",
      "MoviePy - Writing audio in audios_de_trabajo/ecgIA26B.mp3\n"
     ]
    },
    {
     "name": "stderr",
     "output_type": "stream",
     "text": [
      "                                                                                                                       \r"
     ]
    },
    {
     "name": "stdout",
     "output_type": "stream",
     "text": [
      "MoviePy - Done.\n",
      "Audio de ecgIA26B.mp3 descargado correctamente\n",
      "Vídeo 133\n",
      "MoviePy - Writing audio in audios_de_trabajo/3iAHJCCi.mp3\n"
     ]
    },
    {
     "name": "stderr",
     "output_type": "stream",
     "text": [
      "                                                                                                                       \r"
     ]
    },
    {
     "name": "stdout",
     "output_type": "stream",
     "text": [
      "MoviePy - Done.\n",
      "Audio de 3iAHJCCi.mp3 descargado correctamente\n",
      "Vídeo 134\n",
      "MoviePy - Writing audio in audios_de_trabajo/27efHB8D.mp3\n"
     ]
    },
    {
     "name": "stderr",
     "output_type": "stream",
     "text": [
      "                                                                                                                       \r"
     ]
    },
    {
     "name": "stdout",
     "output_type": "stream",
     "text": [
      "MoviePy - Done.\n",
      "Audio de 27efHB8D.mp3 descargado correctamente\n",
      "Vídeo 135\n",
      "MoviePy - Writing audio in audios_de_trabajo/jh0EIaId.mp3\n"
     ]
    },
    {
     "name": "stderr",
     "output_type": "stream",
     "text": [
      "                                                                                                                       \r"
     ]
    },
    {
     "name": "stdout",
     "output_type": "stream",
     "text": [
      "MoviePy - Done.\n",
      "Audio de jh0EIaId.mp3 descargado correctamente\n",
      "Vídeo 136\n",
      "MoviePy - Writing audio in audios_de_trabajo/85G2bGIH.mp3\n"
     ]
    },
    {
     "name": "stderr",
     "output_type": "stream",
     "text": [
      "                                                                                                                       \r"
     ]
    },
    {
     "name": "stdout",
     "output_type": "stream",
     "text": [
      "MoviePy - Done.\n",
      "Audio de 85G2bGIH.mp3 descargado correctamente\n",
      "Vídeo 137\n",
      "MoviePy - Writing audio in audios_de_trabajo/h4d6AF8j.mp3\n"
     ]
    },
    {
     "name": "stderr",
     "output_type": "stream",
     "text": [
      "                                                                                                                       \r"
     ]
    },
    {
     "name": "stdout",
     "output_type": "stream",
     "text": [
      "MoviePy - Done.\n",
      "Audio de h4d6AF8j.mp3 descargado correctamente\n",
      "Vídeo 138\n",
      "MoviePy - Writing audio in audios_de_trabajo/GG31Ac77.mp3\n"
     ]
    },
    {
     "name": "stderr",
     "output_type": "stream",
     "text": [
      "                                                                                                                       \r"
     ]
    },
    {
     "name": "stdout",
     "output_type": "stream",
     "text": [
      "MoviePy - Done.\n",
      "Audio de GG31Ac77.mp3 descargado correctamente\n",
      "Vídeo 139\n",
      "MoviePy - Writing audio in audios_de_trabajo/H2i9gfg3.mp3\n"
     ]
    },
    {
     "name": "stderr",
     "output_type": "stream",
     "text": [
      "                                                                                                                       \r"
     ]
    },
    {
     "name": "stdout",
     "output_type": "stream",
     "text": [
      "MoviePy - Done.\n",
      "Audio de H2i9gfg3.mp3 descargado correctamente\n",
      "Vídeo 140\n",
      "MoviePy - Writing audio in audios_de_trabajo/Ha9gDi75.mp3\n"
     ]
    },
    {
     "name": "stderr",
     "output_type": "stream",
     "text": [
      "                                                                                                                       \r"
     ]
    },
    {
     "name": "stdout",
     "output_type": "stream",
     "text": [
      "MoviePy - Done.\n",
      "Audio de Ha9gDi75.mp3 descargado correctamente\n",
      "Vídeo 141\n",
      "MoviePy - Writing audio in audios_de_trabajo/2E8BJfa6.mp3\n"
     ]
    },
    {
     "name": "stderr",
     "output_type": "stream",
     "text": [
      "                                                                                                                       \r"
     ]
    },
    {
     "name": "stdout",
     "output_type": "stream",
     "text": [
      "MoviePy - Done.\n",
      "Audio de 2E8BJfa6.mp3 descargado correctamente\n",
      "Vídeo 142\n",
      "MoviePy - Writing audio in audios_de_trabajo/GFF2hjeg.mp3\n"
     ]
    },
    {
     "name": "stderr",
     "output_type": "stream",
     "text": [
      "                                                                                                                       \r"
     ]
    },
    {
     "name": "stdout",
     "output_type": "stream",
     "text": [
      "MoviePy - Done.\n",
      "Audio de GFF2hjeg.mp3 descargado correctamente\n",
      "Vídeo 143\n",
      "MoviePy - Writing audio in audios_de_trabajo/eGFdf71b.mp3\n"
     ]
    },
    {
     "name": "stderr",
     "output_type": "stream",
     "text": [
      "                                                                                                                       \r"
     ]
    },
    {
     "name": "stdout",
     "output_type": "stream",
     "text": [
      "MoviePy - Done.\n",
      "Audio de eGFdf71b.mp3 descargado correctamente\n",
      "Vídeo 144\n",
      "MoviePy - Writing audio in audios_de_trabajo/I4308AiC.mp3\n"
     ]
    },
    {
     "name": "stderr",
     "output_type": "stream",
     "text": [
      "                                                                                                                       \r"
     ]
    },
    {
     "name": "stdout",
     "output_type": "stream",
     "text": [
      "MoviePy - Done.\n",
      "Audio de I4308AiC.mp3 descargado correctamente\n",
      "Vídeo 145\n",
      "MoviePy - Writing audio in audios_de_trabajo/dbbfg1b5.mp3\n"
     ]
    },
    {
     "name": "stderr",
     "output_type": "stream",
     "text": [
      "                                                                                                                       \r"
     ]
    },
    {
     "name": "stdout",
     "output_type": "stream",
     "text": [
      "MoviePy - Done.\n",
      "Audio de dbbfg1b5.mp3 descargado correctamente\n",
      "Vídeo 146\n",
      "MoviePy - Writing audio in audios_de_trabajo/fhJ035i6.mp3\n"
     ]
    },
    {
     "name": "stderr",
     "output_type": "stream",
     "text": [
      "                                                                                                                       \r"
     ]
    },
    {
     "name": "stdout",
     "output_type": "stream",
     "text": [
      "MoviePy - Done.\n",
      "Audio de fhJ035i6.mp3 descargado correctamente\n",
      "Vídeo 147\n",
      "MoviePy - Writing audio in audios_de_trabajo/c3de76AB.mp3\n"
     ]
    },
    {
     "name": "stderr",
     "output_type": "stream",
     "text": [
      "                                                                                                                       \r"
     ]
    },
    {
     "name": "stdout",
     "output_type": "stream",
     "text": [
      "MoviePy - Done.\n",
      "Audio de c3de76AB.mp3 descargado correctamente\n",
      "Vídeo 148\n",
      "MoviePy - Writing audio in audios_de_trabajo/EhIHf8bA.mp3\n"
     ]
    },
    {
     "name": "stderr",
     "output_type": "stream",
     "text": [
      "                                                                                                                       \r"
     ]
    },
    {
     "name": "stdout",
     "output_type": "stream",
     "text": [
      "MoviePy - Done.\n",
      "Audio de EhIHf8bA.mp3 descargado correctamente\n",
      "Vídeo 149\n",
      "MoviePy - Writing audio in audios_de_trabajo/8Jg6A8f2.mp3\n"
     ]
    },
    {
     "name": "stderr",
     "output_type": "stream",
     "text": [
      "                                                                                                                       \r"
     ]
    },
    {
     "name": "stdout",
     "output_type": "stream",
     "text": [
      "MoviePy - Done.\n",
      "Audio de 8Jg6A8f2.mp3 descargado correctamente\n",
      "Vídeo 150\n",
      "MoviePy - Writing audio in audios_de_trabajo/4C5g58hI.mp3\n"
     ]
    },
    {
     "name": "stderr",
     "output_type": "stream",
     "text": [
      "                                                                                                                       \r"
     ]
    },
    {
     "name": "stdout",
     "output_type": "stream",
     "text": [
      "MoviePy - Done.\n",
      "Audio de 4C5g58hI.mp3 descargado correctamente\n",
      "Vídeo 151\n",
      "MoviePy - Writing audio in audios_de_trabajo/bI15Bigb.mp3\n"
     ]
    },
    {
     "name": "stderr",
     "output_type": "stream",
     "text": [
      "                                                                                                                       \r"
     ]
    },
    {
     "name": "stdout",
     "output_type": "stream",
     "text": [
      "MoviePy - Done.\n",
      "Audio de bI15Bigb.mp3 descargado correctamente\n",
      "Vídeo 152\n",
      "MoviePy - Writing audio in audios_de_trabajo/BHiJ00BG.mp3\n"
     ]
    },
    {
     "name": "stderr",
     "output_type": "stream",
     "text": [
      "                                                                                                                       \r"
     ]
    },
    {
     "name": "stdout",
     "output_type": "stream",
     "text": [
      "MoviePy - Done.\n",
      "Audio de BHiJ00BG.mp3 descargado correctamente\n",
      "Vídeo 153\n",
      "MoviePy - Writing audio in audios_de_trabajo/0FEgCeJA.mp3\n"
     ]
    },
    {
     "name": "stderr",
     "output_type": "stream",
     "text": [
      "                                                                                                                       \r"
     ]
    },
    {
     "name": "stdout",
     "output_type": "stream",
     "text": [
      "MoviePy - Done.\n",
      "Audio de 0FEgCeJA.mp3 descargado correctamente\n",
      "Vídeo 154\n",
      "MoviePy - Writing audio in audios_de_trabajo/jFe9h5cd.mp3\n"
     ]
    },
    {
     "name": "stderr",
     "output_type": "stream",
     "text": [
      "                                                                                                                       \r"
     ]
    },
    {
     "name": "stdout",
     "output_type": "stream",
     "text": [
      "MoviePy - Done.\n",
      "Audio de jFe9h5cd.mp3 descargado correctamente\n",
      "Vídeo 155\n",
      "MoviePy - Writing audio in audios_de_trabajo/eGD4fDIb.mp3\n"
     ]
    },
    {
     "name": "stderr",
     "output_type": "stream",
     "text": [
      "                                                                                                                       \r"
     ]
    },
    {
     "name": "stdout",
     "output_type": "stream",
     "text": [
      "MoviePy - Done.\n",
      "Audio de eGD4fDIb.mp3 descargado correctamente\n",
      "Vídeo 156\n",
      "MoviePy - Writing audio in audios_de_trabajo/gHAfJ9Dj.mp3\n"
     ]
    },
    {
     "name": "stderr",
     "output_type": "stream",
     "text": [
      "                                                                                                                       \r"
     ]
    },
    {
     "name": "stdout",
     "output_type": "stream",
     "text": [
      "MoviePy - Done.\n",
      "Audio de gHAfJ9Dj.mp3 descargado correctamente\n",
      "Vídeo 157\n",
      "MoviePy - Writing audio in audios_de_trabajo/5eFghBaH.mp3\n"
     ]
    },
    {
     "name": "stderr",
     "output_type": "stream",
     "text": [
      "                                                                                                                       \r"
     ]
    },
    {
     "name": "stdout",
     "output_type": "stream",
     "text": [
      "MoviePy - Done.\n",
      "Audio de 5eFghBaH.mp3 descargado correctamente\n",
      "Vídeo 158\n",
      "MoviePy - Writing audio in audios_de_trabajo/15C4AcDH.mp3\n"
     ]
    },
    {
     "name": "stderr",
     "output_type": "stream",
     "text": [
      "                                                                                                                       \r"
     ]
    },
    {
     "name": "stdout",
     "output_type": "stream",
     "text": [
      "MoviePy - Done.\n",
      "Audio de 15C4AcDH.mp3 descargado correctamente\n",
      "Vídeo 159\n",
      "MoviePy - Writing audio in audios_de_trabajo/7dg7ADhE.mp3\n"
     ]
    },
    {
     "name": "stderr",
     "output_type": "stream",
     "text": [
      "                                                                                                                       \r"
     ]
    },
    {
     "name": "stdout",
     "output_type": "stream",
     "text": [
      "MoviePy - Done.\n",
      "Audio de 7dg7ADhE.mp3 descargado correctamente\n",
      "Vídeo 160\n",
      "MoviePy - Writing audio in audios_de_trabajo/eahf5fI6.mp3\n"
     ]
    },
    {
     "name": "stderr",
     "output_type": "stream",
     "text": [
      "                                                                                                                       \r"
     ]
    },
    {
     "name": "stdout",
     "output_type": "stream",
     "text": [
      "MoviePy - Done.\n",
      "Audio de eahf5fI6.mp3 descargado correctamente\n",
      "Vídeo 165\n",
      "MoviePy - Writing audio in audios_de_trabajo/A4JCJd05.mp3\n"
     ]
    },
    {
     "name": "stderr",
     "output_type": "stream",
     "text": [
      "                                                                                                                       \r"
     ]
    },
    {
     "name": "stdout",
     "output_type": "stream",
     "text": [
      "MoviePy - Done.\n",
      "Audio de A4JCJd05.mp3 descargado correctamente\n",
      "Vídeo 166\n",
      "MoviePy - Writing audio in audios_de_trabajo/6F3cFj9j.mp3\n"
     ]
    },
    {
     "name": "stderr",
     "output_type": "stream",
     "text": [
      "                                                                                                                       \r"
     ]
    },
    {
     "name": "stdout",
     "output_type": "stream",
     "text": [
      "MoviePy - Done.\n",
      "Audio de 6F3cFj9j.mp3 descargado correctamente\n",
      "Vídeo 167\n",
      "MoviePy - Writing audio in audios_de_trabajo/I9b6Ba1I.mp3\n"
     ]
    },
    {
     "name": "stderr",
     "output_type": "stream",
     "text": [
      "                                                                                                                       \r"
     ]
    },
    {
     "name": "stdout",
     "output_type": "stream",
     "text": [
      "MoviePy - Done.\n",
      "Audio de I9b6Ba1I.mp3 descargado correctamente\n",
      "Vídeo 168\n",
      "MoviePy - Writing audio in audios_de_trabajo/9AJ43b4E.mp3\n"
     ]
    },
    {
     "name": "stderr",
     "output_type": "stream",
     "text": [
      "                                                                                                                       \r"
     ]
    },
    {
     "name": "stdout",
     "output_type": "stream",
     "text": [
      "MoviePy - Done.\n",
      "Audio de 9AJ43b4E.mp3 descargado correctamente\n",
      "Vídeo 169\n",
      "MoviePy - Writing audio in audios_de_trabajo/JEej19a4.mp3\n"
     ]
    },
    {
     "name": "stderr",
     "output_type": "stream",
     "text": [
      "                                                                                                                       \r"
     ]
    },
    {
     "name": "stdout",
     "output_type": "stream",
     "text": [
      "MoviePy - Done.\n",
      "Audio de JEej19a4.mp3 descargado correctamente\n",
      "Vídeo 170\n",
      "MoviePy - Writing audio in audios_de_trabajo/0AA9HFI3.mp3\n"
     ]
    },
    {
     "name": "stderr",
     "output_type": "stream",
     "text": [
      "                                                                                                                       \r"
     ]
    },
    {
     "name": "stdout",
     "output_type": "stream",
     "text": [
      "MoviePy - Done.\n",
      "Audio de 0AA9HFI3.mp3 descargado correctamente\n",
      "Vídeo 171\n",
      "MoviePy - Writing audio in audios_de_trabajo/EHigC2Fc.mp3\n"
     ]
    },
    {
     "name": "stderr",
     "output_type": "stream",
     "text": [
      "                                                                                                                       \r"
     ]
    },
    {
     "name": "stdout",
     "output_type": "stream",
     "text": [
      "MoviePy - Done.\n",
      "Audio de EHigC2Fc.mp3 descargado correctamente\n",
      "Vídeo 172\n",
      "MoviePy - Writing audio in audios_de_trabajo/66EHc283.mp3\n"
     ]
    },
    {
     "name": "stderr",
     "output_type": "stream",
     "text": [
      "                                                                                                                       \r"
     ]
    },
    {
     "name": "stdout",
     "output_type": "stream",
     "text": [
      "MoviePy - Done.\n",
      "Audio de 66EHc283.mp3 descargado correctamente\n",
      "Vídeo 173\n",
      "MoviePy - Writing audio in audios_de_trabajo/hgAaCGeD.mp3\n"
     ]
    },
    {
     "name": "stderr",
     "output_type": "stream",
     "text": [
      "                                                                                                                       \r"
     ]
    },
    {
     "name": "stdout",
     "output_type": "stream",
     "text": [
      "MoviePy - Done.\n",
      "Audio de hgAaCGeD.mp3 descargado correctamente\n",
      "Vídeo 174\n",
      "MoviePy - Writing audio in audios_de_trabajo/eD4GJ9dd.mp3\n"
     ]
    },
    {
     "name": "stderr",
     "output_type": "stream",
     "text": [
      "                                                                                                                       \r"
     ]
    },
    {
     "name": "stdout",
     "output_type": "stream",
     "text": [
      "MoviePy - Done.\n",
      "Audio de eD4GJ9dd.mp3 descargado correctamente\n",
      "Vídeo 175\n",
      "MoviePy - Writing audio in audios_de_trabajo/BgaJE0DG.mp3\n"
     ]
    },
    {
     "name": "stderr",
     "output_type": "stream",
     "text": [
      "                                                                                                                       \r"
     ]
    },
    {
     "name": "stdout",
     "output_type": "stream",
     "text": [
      "MoviePy - Done.\n",
      "Audio de BgaJE0DG.mp3 descargado correctamente\n",
      "Vídeo 176\n",
      "MoviePy - Writing audio in audios_de_trabajo/9bijd7eG.mp3\n"
     ]
    },
    {
     "name": "stderr",
     "output_type": "stream",
     "text": [
      "                                                                                                                       \r"
     ]
    },
    {
     "name": "stdout",
     "output_type": "stream",
     "text": [
      "MoviePy - Done.\n",
      "Audio de 9bijd7eG.mp3 descargado correctamente\n",
      "Vídeo 177\n",
      "MoviePy - Writing audio in audios_de_trabajo/FcA96Ih0.mp3\n"
     ]
    },
    {
     "name": "stderr",
     "output_type": "stream",
     "text": [
      "                                                                                                                       \r"
     ]
    },
    {
     "name": "stdout",
     "output_type": "stream",
     "text": [
      "MoviePy - Done.\n",
      "Audio de FcA96Ih0.mp3 descargado correctamente\n",
      "Vídeo 178\n",
      "MoviePy - Writing audio in audios_de_trabajo/eA71GaHF.mp3\n"
     ]
    },
    {
     "name": "stderr",
     "output_type": "stream",
     "text": [
      "                                                                                                                       \r"
     ]
    },
    {
     "name": "stdout",
     "output_type": "stream",
     "text": [
      "MoviePy - Done.\n",
      "Audio de eA71GaHF.mp3 descargado correctamente\n",
      "Vídeo 179\n",
      "MoviePy - Writing audio in audios_de_trabajo/E0cCf7jA.mp3\n"
     ]
    },
    {
     "name": "stderr",
     "output_type": "stream",
     "text": [
      "                                                                                                                       \r"
     ]
    },
    {
     "name": "stdout",
     "output_type": "stream",
     "text": [
      "MoviePy - Done.\n",
      "Audio de E0cCf7jA.mp3 descargado correctamente\n",
      "Vídeo 180\n",
      "MoviePy - Writing audio in audios_de_trabajo/5bjj4e15.mp3\n"
     ]
    },
    {
     "name": "stderr",
     "output_type": "stream",
     "text": [
      "                                                                                                                       \r"
     ]
    },
    {
     "name": "stdout",
     "output_type": "stream",
     "text": [
      "MoviePy - Done.\n",
      "Audio de 5bjj4e15.mp3 descargado correctamente\n",
      "Vídeo 181\n",
      "MoviePy - Writing audio in audios_de_trabajo/GCiIe0gf.mp3\n"
     ]
    },
    {
     "name": "stderr",
     "output_type": "stream",
     "text": [
      "                                                                                                                       \r"
     ]
    },
    {
     "name": "stdout",
     "output_type": "stream",
     "text": [
      "MoviePy - Done.\n",
      "Audio de GCiIe0gf.mp3 descargado correctamente\n",
      "Vídeo 182\n",
      "MoviePy - Writing audio in audios_de_trabajo/E7bcb523.mp3\n"
     ]
    },
    {
     "name": "stderr",
     "output_type": "stream",
     "text": [
      "                                                                                                                       \r"
     ]
    },
    {
     "name": "stdout",
     "output_type": "stream",
     "text": [
      "MoviePy - Done.\n",
      "Audio de E7bcb523.mp3 descargado correctamente\n",
      "Vídeo 183\n",
      "MoviePy - Writing audio in audios_de_trabajo/dAf2e5E3.mp3\n"
     ]
    },
    {
     "name": "stderr",
     "output_type": "stream",
     "text": [
      "                                                                                                                       \r"
     ]
    },
    {
     "name": "stdout",
     "output_type": "stream",
     "text": [
      "MoviePy - Done.\n",
      "Audio de dAf2e5E3.mp3 descargado correctamente\n",
      "Vídeo 184\n",
      "MoviePy - Writing audio in audios_de_trabajo/07g59C96.mp3\n"
     ]
    },
    {
     "name": "stderr",
     "output_type": "stream",
     "text": [
      "                                                                                                                       \r"
     ]
    },
    {
     "name": "stdout",
     "output_type": "stream",
     "text": [
      "MoviePy - Done.\n",
      "Audio de 07g59C96.mp3 descargado correctamente\n",
      "Vídeo 185\n",
      "MoviePy - Writing audio in audios_de_trabajo/CFHA0GA2.mp3\n"
     ]
    },
    {
     "name": "stderr",
     "output_type": "stream",
     "text": [
      "                                                                                                                       \r"
     ]
    },
    {
     "name": "stdout",
     "output_type": "stream",
     "text": [
      "MoviePy - Done.\n",
      "Audio de CFHA0GA2.mp3 descargado correctamente\n",
      "Vídeo 186\n",
      "MoviePy - Writing audio in audios_de_trabajo/5Agf7H3e.mp3\n"
     ]
    },
    {
     "name": "stderr",
     "output_type": "stream",
     "text": [
      "                                                                                                                       \r"
     ]
    },
    {
     "name": "stdout",
     "output_type": "stream",
     "text": [
      "MoviePy - Done.\n",
      "Audio de 5Agf7H3e.mp3 descargado correctamente\n",
      "Vídeo 187\n",
      "MoviePy - Writing audio in audios_de_trabajo/38Gj3dfc.mp3\n"
     ]
    },
    {
     "name": "stderr",
     "output_type": "stream",
     "text": [
      "                                                                                                                       \r"
     ]
    },
    {
     "name": "stdout",
     "output_type": "stream",
     "text": [
      "MoviePy - Done.\n",
      "Audio de 38Gj3dfc.mp3 descargado correctamente\n",
      "Vídeo 188\n",
      "MoviePy - Writing audio in audios_de_trabajo/216BhB8C.mp3\n"
     ]
    },
    {
     "name": "stderr",
     "output_type": "stream",
     "text": [
      "                                                                                                                       \r"
     ]
    },
    {
     "name": "stdout",
     "output_type": "stream",
     "text": [
      "MoviePy - Done.\n",
      "Audio de 216BhB8C.mp3 descargado correctamente\n",
      "Vídeo 189\n",
      "MoviePy - Writing audio in audios_de_trabajo/hjA0HEGc.mp3\n"
     ]
    },
    {
     "name": "stderr",
     "output_type": "stream",
     "text": [
      "                                                                                                                       \r"
     ]
    },
    {
     "name": "stdout",
     "output_type": "stream",
     "text": [
      "MoviePy - Done.\n",
      "Audio de hjA0HEGc.mp3 descargado correctamente\n",
      "Vídeo 190\n",
      "MoviePy - Writing audio in audios_de_trabajo/2bb6GGGf.mp3\n"
     ]
    },
    {
     "name": "stderr",
     "output_type": "stream",
     "text": [
      "                                                                                                                       \r"
     ]
    },
    {
     "name": "stdout",
     "output_type": "stream",
     "text": [
      "MoviePy - Done.\n",
      "Audio de 2bb6GGGf.mp3 descargado correctamente\n",
      "Vídeo 191\n",
      "MoviePy - Writing audio in audios_de_trabajo/gf303gie.mp3\n"
     ]
    },
    {
     "name": "stderr",
     "output_type": "stream",
     "text": [
      "                                                                                                                       \r"
     ]
    },
    {
     "name": "stdout",
     "output_type": "stream",
     "text": [
      "MoviePy - Done.\n",
      "Audio de gf303gie.mp3 descargado correctamente\n",
      "Vídeo 192\n",
      "MoviePy - Writing audio in audios_de_trabajo/0b6dH00g.mp3\n"
     ]
    },
    {
     "name": "stderr",
     "output_type": "stream",
     "text": [
      "                                                                                                                       \r"
     ]
    },
    {
     "name": "stdout",
     "output_type": "stream",
     "text": [
      "MoviePy - Done.\n",
      "Audio de 0b6dH00g.mp3 descargado correctamente\n",
      "Vídeo 193\n",
      "MoviePy - Writing audio in audios_de_trabajo/aBEabe73.mp3\n"
     ]
    },
    {
     "name": "stderr",
     "output_type": "stream",
     "text": [
      "                                                                                                                       \r"
     ]
    },
    {
     "name": "stdout",
     "output_type": "stream",
     "text": [
      "MoviePy - Done.\n",
      "Audio de aBEabe73.mp3 descargado correctamente\n",
      "Vídeo 194\n",
      "MoviePy - Writing audio in audios_de_trabajo/jBeaGIgI.mp3\n"
     ]
    },
    {
     "name": "stderr",
     "output_type": "stream",
     "text": [
      "                                                                                                                       \r"
     ]
    },
    {
     "name": "stdout",
     "output_type": "stream",
     "text": [
      "MoviePy - Done.\n",
      "Audio de jBeaGIgI.mp3 descargado correctamente\n",
      "Vídeo 195\n",
      "MoviePy - Writing audio in audios_de_trabajo/3Bi1F2CB.mp3\n"
     ]
    },
    {
     "name": "stderr",
     "output_type": "stream",
     "text": [
      "                                                                                                                       \r"
     ]
    },
    {
     "name": "stdout",
     "output_type": "stream",
     "text": [
      "MoviePy - Done.\n",
      "Audio de 3Bi1F2CB.mp3 descargado correctamente\n",
      "Vídeo 196\n",
      "MoviePy - Writing audio in audios_de_trabajo/H3Ii2b8a.mp3\n"
     ]
    },
    {
     "name": "stderr",
     "output_type": "stream",
     "text": [
      "                                                                                                                       \r"
     ]
    },
    {
     "name": "stdout",
     "output_type": "stream",
     "text": [
      "MoviePy - Done.\n",
      "Audio de H3Ii2b8a.mp3 descargado correctamente\n",
      "Vídeo 197\n",
      "MoviePy - Writing audio in audios_de_trabajo/CHADGHIh.mp3\n"
     ]
    },
    {
     "name": "stderr",
     "output_type": "stream",
     "text": [
      "                                                                                                                       \r"
     ]
    },
    {
     "name": "stdout",
     "output_type": "stream",
     "text": [
      "MoviePy - Done.\n",
      "Audio de CHADGHIh.mp3 descargado correctamente\n",
      "Vídeo 198\n",
      "MoviePy - Writing audio in audios_de_trabajo/14IgADE2.mp3\n"
     ]
    },
    {
     "name": "stderr",
     "output_type": "stream",
     "text": [
      "                                                                                                                       \r"
     ]
    },
    {
     "name": "stdout",
     "output_type": "stream",
     "text": [
      "MoviePy - Done.\n",
      "Audio de 14IgADE2.mp3 descargado correctamente\n",
      "Vídeo 199\n",
      "MoviePy - Writing audio in audios_de_trabajo/id9G7gcc.mp3\n"
     ]
    },
    {
     "name": "stderr",
     "output_type": "stream",
     "text": [
      "                                                                                                                       \r"
     ]
    },
    {
     "name": "stdout",
     "output_type": "stream",
     "text": [
      "MoviePy - Done.\n",
      "Audio de id9G7gcc.mp3 descargado correctamente\n",
      "Vídeo 200\n",
      "MoviePy - Writing audio in audios_de_trabajo/h9gjb868.mp3\n"
     ]
    },
    {
     "name": "stderr",
     "output_type": "stream",
     "text": [
      "                                                                                                                       \r"
     ]
    },
    {
     "name": "stdout",
     "output_type": "stream",
     "text": [
      "MoviePy - Done.\n",
      "Audio de h9gjb868.mp3 descargado correctamente\n",
      "Vídeo 201\n",
      "MoviePy - Writing audio in audios_de_trabajo/gIcH5iBi.mp3\n"
     ]
    },
    {
     "name": "stderr",
     "output_type": "stream",
     "text": [
      "                                                                                                                       \r"
     ]
    },
    {
     "name": "stdout",
     "output_type": "stream",
     "text": [
      "MoviePy - Done.\n",
      "Audio de gIcH5iBi.mp3 descargado correctamente\n",
      "Vídeo 202\n",
      "MoviePy - Writing audio in audios_de_trabajo/03JjCF4I.mp3\n"
     ]
    },
    {
     "name": "stderr",
     "output_type": "stream",
     "text": [
      "                                                                                                                       \r"
     ]
    },
    {
     "name": "stdout",
     "output_type": "stream",
     "text": [
      "MoviePy - Done.\n",
      "Audio de 03JjCF4I.mp3 descargado correctamente\n",
      "Vídeo 203\n",
      "MoviePy - Writing audio in audios_de_trabajo/c6Cd2193.mp3\n"
     ]
    },
    {
     "name": "stderr",
     "output_type": "stream",
     "text": [
      "                                                                                                                       \r"
     ]
    },
    {
     "name": "stdout",
     "output_type": "stream",
     "text": [
      "MoviePy - Done.\n",
      "Audio de c6Cd2193.mp3 descargado correctamente\n",
      "Vídeo 204\n",
      "MoviePy - Writing audio in audios_de_trabajo/j335df9c.mp3\n"
     ]
    },
    {
     "name": "stderr",
     "output_type": "stream",
     "text": [
      "                                                                                                                       \r"
     ]
    },
    {
     "name": "stdout",
     "output_type": "stream",
     "text": [
      "MoviePy - Done.\n",
      "Audio de j335df9c.mp3 descargado correctamente\n",
      "Vídeo 205\n",
      "MoviePy - Writing audio in audios_de_trabajo/aDDdC869.mp3\n"
     ]
    },
    {
     "name": "stderr",
     "output_type": "stream",
     "text": [
      "                                                                                                                       \r"
     ]
    },
    {
     "name": "stdout",
     "output_type": "stream",
     "text": [
      "MoviePy - Done.\n",
      "Audio de aDDdC869.mp3 descargado correctamente\n",
      "Vídeo 206\n",
      "MoviePy - Writing audio in audios_de_trabajo/0gcbcjDA.mp3\n"
     ]
    },
    {
     "name": "stderr",
     "output_type": "stream",
     "text": [
      "                                                                                                                       \r"
     ]
    },
    {
     "name": "stdout",
     "output_type": "stream",
     "text": [
      "MoviePy - Done.\n",
      "Audio de 0gcbcjDA.mp3 descargado correctamente\n",
      "Vídeo 207\n",
      "MoviePy - Writing audio in audios_de_trabajo/DeFIgfHb.mp3\n"
     ]
    },
    {
     "name": "stderr",
     "output_type": "stream",
     "text": [
      "                                                                                                                       \r"
     ]
    },
    {
     "name": "stdout",
     "output_type": "stream",
     "text": [
      "MoviePy - Done.\n",
      "Audio de DeFIgfHb.mp3 descargado correctamente\n",
      "Vídeo 208\n",
      "MoviePy - Writing audio in audios_de_trabajo/CDCCFdjI.mp3\n"
     ]
    },
    {
     "name": "stderr",
     "output_type": "stream",
     "text": [
      "                                                                                                                       \r"
     ]
    },
    {
     "name": "stdout",
     "output_type": "stream",
     "text": [
      "MoviePy - Done.\n",
      "Audio de CDCCFdjI.mp3 descargado correctamente\n",
      "Vídeo 209\n",
      "MoviePy - Writing audio in audios_de_trabajo/a79EI21C.mp3\n"
     ]
    },
    {
     "name": "stderr",
     "output_type": "stream",
     "text": [
      "                                                                                                                       \r"
     ]
    },
    {
     "name": "stdout",
     "output_type": "stream",
     "text": [
      "MoviePy - Done.\n",
      "Audio de a79EI21C.mp3 descargado correctamente\n",
      "Vídeo 210\n",
      "MoviePy - Writing audio in audios_de_trabajo/BdjiJcDg.mp3\n"
     ]
    },
    {
     "name": "stderr",
     "output_type": "stream",
     "text": [
      "                                                                                                                       \r"
     ]
    },
    {
     "name": "stdout",
     "output_type": "stream",
     "text": [
      "MoviePy - Done.\n",
      "Audio de BdjiJcDg.mp3 descargado correctamente\n",
      "Vídeo 211\n",
      "MoviePy - Writing audio in audios_de_trabajo/e1GfDb91.mp3\n"
     ]
    },
    {
     "name": "stderr",
     "output_type": "stream",
     "text": [
      "                                                                                                                       \r"
     ]
    },
    {
     "name": "stdout",
     "output_type": "stream",
     "text": [
      "MoviePy - Done.\n",
      "Audio de e1GfDb91.mp3 descargado correctamente\n",
      "Vídeo 212\n",
      "MoviePy - Writing audio in audios_de_trabajo/5F451faF.mp3\n"
     ]
    },
    {
     "name": "stderr",
     "output_type": "stream",
     "text": [
      "                                                                                                                       \r"
     ]
    },
    {
     "name": "stdout",
     "output_type": "stream",
     "text": [
      "MoviePy - Done.\n",
      "Audio de 5F451faF.mp3 descargado correctamente\n",
      "Vídeo 213\n",
      "MoviePy - Writing audio in audios_de_trabajo/bA9j00Dg.mp3\n"
     ]
    },
    {
     "name": "stderr",
     "output_type": "stream",
     "text": [
      "                                                                                                                       \r"
     ]
    },
    {
     "name": "stdout",
     "output_type": "stream",
     "text": [
      "MoviePy - Done.\n",
      "Audio de bA9j00Dg.mp3 descargado correctamente\n",
      "Vídeo 214\n",
      "MoviePy - Writing audio in audios_de_trabajo/IJ4f6JeJ.mp3\n"
     ]
    },
    {
     "name": "stderr",
     "output_type": "stream",
     "text": [
      "                                                                                                                       \r"
     ]
    },
    {
     "name": "stdout",
     "output_type": "stream",
     "text": [
      "MoviePy - Done.\n",
      "Audio de IJ4f6JeJ.mp3 descargado correctamente\n",
      "Vídeo 215\n",
      "MoviePy - Writing audio in audios_de_trabajo/hDFdh6h4.mp3\n"
     ]
    },
    {
     "name": "stderr",
     "output_type": "stream",
     "text": [
      "                                                                                                                       \r"
     ]
    },
    {
     "name": "stdout",
     "output_type": "stream",
     "text": [
      "MoviePy - Done.\n",
      "Audio de hDFdh6h4.mp3 descargado correctamente\n",
      "Vídeo 216\n",
      "MoviePy - Writing audio in audios_de_trabajo/DIAiijCB.mp3\n"
     ]
    },
    {
     "name": "stderr",
     "output_type": "stream",
     "text": [
      "                                                                                                                       \r"
     ]
    },
    {
     "name": "stdout",
     "output_type": "stream",
     "text": [
      "MoviePy - Done.\n",
      "Audio de DIAiijCB.mp3 descargado correctamente\n",
      "Vídeo 217\n",
      "MoviePy - Writing audio in audios_de_trabajo/iGBDG2HE.mp3\n"
     ]
    },
    {
     "name": "stderr",
     "output_type": "stream",
     "text": [
      "                                                                                                                       \r"
     ]
    },
    {
     "name": "stdout",
     "output_type": "stream",
     "text": [
      "MoviePy - Done.\n",
      "Audio de iGBDG2HE.mp3 descargado correctamente\n",
      "Vídeo 218\n",
      "MoviePy - Writing audio in audios_de_trabajo/HcAABa85.mp3\n"
     ]
    },
    {
     "name": "stderr",
     "output_type": "stream",
     "text": [
      "                                                                                                                       \r"
     ]
    },
    {
     "name": "stdout",
     "output_type": "stream",
     "text": [
      "MoviePy - Done.\n",
      "Audio de HcAABa85.mp3 descargado correctamente\n",
      "Vídeo 219\n",
      "MoviePy - Writing audio in audios_de_trabajo/373AaDC7.mp3\n"
     ]
    },
    {
     "name": "stderr",
     "output_type": "stream",
     "text": [
      "                                                                                                                       \r"
     ]
    },
    {
     "name": "stdout",
     "output_type": "stream",
     "text": [
      "MoviePy - Done.\n",
      "Audio de 373AaDC7.mp3 descargado correctamente\n",
      "Vídeo 220\n",
      "MoviePy - Writing audio in audios_de_trabajo/GIeEijFD.mp3\n"
     ]
    },
    {
     "name": "stderr",
     "output_type": "stream",
     "text": [
      "                                                                                                                       \r"
     ]
    },
    {
     "name": "stdout",
     "output_type": "stream",
     "text": [
      "MoviePy - Done.\n",
      "Audio de GIeEijFD.mp3 descargado correctamente\n",
      "Vídeo 221\n",
      "MoviePy - Writing audio in audios_de_trabajo/Aefb5AhJ.mp3\n"
     ]
    },
    {
     "name": "stderr",
     "output_type": "stream",
     "text": [
      "                                                                                                                       \r"
     ]
    },
    {
     "name": "stdout",
     "output_type": "stream",
     "text": [
      "MoviePy - Done.\n",
      "Audio de Aefb5AhJ.mp3 descargado correctamente\n",
      "Vídeo 222\n",
      "MoviePy - Writing audio in audios_de_trabajo/FDI0f3EH.mp3\n"
     ]
    },
    {
     "name": "stderr",
     "output_type": "stream",
     "text": [
      "                                                                                                                       \r"
     ]
    },
    {
     "name": "stdout",
     "output_type": "stream",
     "text": [
      "MoviePy - Done.\n",
      "Audio de FDI0f3EH.mp3 descargado correctamente\n",
      "Vídeo 223\n",
      "MoviePy - Writing audio in audios_de_trabajo/d2AJjF7J.mp3\n"
     ]
    },
    {
     "name": "stderr",
     "output_type": "stream",
     "text": [
      "                                                                                                                       \r"
     ]
    },
    {
     "name": "stdout",
     "output_type": "stream",
     "text": [
      "MoviePy - Done.\n",
      "Audio de d2AJjF7J.mp3 descargado correctamente\n",
      "Vídeo 224\n",
      "MoviePy - Writing audio in audios_de_trabajo/17dhi1Ba.mp3\n"
     ]
    },
    {
     "name": "stderr",
     "output_type": "stream",
     "text": [
      "                                                                                                                       \r"
     ]
    },
    {
     "name": "stdout",
     "output_type": "stream",
     "text": [
      "MoviePy - Done.\n",
      "Audio de 17dhi1Ba.mp3 descargado correctamente\n",
      "Vídeo 225\n",
      "MoviePy - Writing audio in audios_de_trabajo/F4F7FEj0.mp3\n"
     ]
    },
    {
     "name": "stderr",
     "output_type": "stream",
     "text": [
      "                                                                                                                       \r"
     ]
    },
    {
     "name": "stdout",
     "output_type": "stream",
     "text": [
      "MoviePy - Done.\n",
      "Audio de F4F7FEj0.mp3 descargado correctamente\n",
      "Vídeo 226\n",
      "MoviePy - Writing audio in audios_de_trabajo/Jfd7EH2G.mp3\n"
     ]
    },
    {
     "name": "stderr",
     "output_type": "stream",
     "text": [
      "                                                                                                                       \r"
     ]
    },
    {
     "name": "stdout",
     "output_type": "stream",
     "text": [
      "MoviePy - Done.\n",
      "Audio de Jfd7EH2G.mp3 descargado correctamente\n",
      "Vídeo 227\n",
      "MoviePy - Writing audio in audios_de_trabajo/5jcfCH04.mp3\n"
     ]
    },
    {
     "name": "stderr",
     "output_type": "stream",
     "text": [
      "                                                                                                                       \r"
     ]
    },
    {
     "name": "stdout",
     "output_type": "stream",
     "text": [
      "MoviePy - Done.\n",
      "Audio de 5jcfCH04.mp3 descargado correctamente\n",
      "Vídeo 228\n",
      "MoviePy - Writing audio in audios_de_trabajo/D8AA5Fce.mp3\n"
     ]
    },
    {
     "name": "stderr",
     "output_type": "stream",
     "text": [
      "                                                                                                                       \r"
     ]
    },
    {
     "name": "stdout",
     "output_type": "stream",
     "text": [
      "MoviePy - Done.\n",
      "Audio de D8AA5Fce.mp3 descargado correctamente\n",
      "Vídeo 229\n",
      "MoviePy - Writing audio in audios_de_trabajo/B0c3CEdF.mp3\n"
     ]
    },
    {
     "name": "stderr",
     "output_type": "stream",
     "text": [
      "                                                                                                                       \r"
     ]
    },
    {
     "name": "stdout",
     "output_type": "stream",
     "text": [
      "MoviePy - Done.\n",
      "Audio de B0c3CEdF.mp3 descargado correctamente\n",
      "Vídeo 230\n",
      "MoviePy - Writing audio in audios_de_trabajo/56dB5j8H.mp3\n"
     ]
    },
    {
     "name": "stderr",
     "output_type": "stream",
     "text": [
      "                                                                                                                       \r"
     ]
    },
    {
     "name": "stdout",
     "output_type": "stream",
     "text": [
      "MoviePy - Done.\n",
      "Audio de 56dB5j8H.mp3 descargado correctamente\n",
      "Vídeo 231\n",
      "MoviePy - Writing audio in audios_de_trabajo/jcGbiDcb.mp3\n"
     ]
    },
    {
     "name": "stderr",
     "output_type": "stream",
     "text": [
      "                                                                                                                       \r"
     ]
    },
    {
     "name": "stdout",
     "output_type": "stream",
     "text": [
      "MoviePy - Done.\n",
      "Audio de jcGbiDcb.mp3 descargado correctamente\n",
      "Vídeo 232\n",
      "MoviePy - Writing audio in audios_de_trabajo/G6BIcf9a.mp3\n"
     ]
    },
    {
     "name": "stderr",
     "output_type": "stream",
     "text": [
      "                                                                                                                       \r"
     ]
    },
    {
     "name": "stdout",
     "output_type": "stream",
     "text": [
      "MoviePy - Done.\n",
      "Audio de G6BIcf9a.mp3 descargado correctamente\n",
      "Vídeo 233\n",
      "MoviePy - Writing audio in audios_de_trabajo/c882iA53.mp3\n"
     ]
    },
    {
     "name": "stderr",
     "output_type": "stream",
     "text": [
      "                                                                                                                       \r"
     ]
    },
    {
     "name": "stdout",
     "output_type": "stream",
     "text": [
      "MoviePy - Done.\n",
      "Audio de c882iA53.mp3 descargado correctamente\n",
      "Vídeo 234\n",
      "MoviePy - Writing audio in audios_de_trabajo/c73gdhf8.mp3\n"
     ]
    },
    {
     "name": "stderr",
     "output_type": "stream",
     "text": [
      "                                                                                                                       \r"
     ]
    },
    {
     "name": "stdout",
     "output_type": "stream",
     "text": [
      "MoviePy - Done.\n",
      "Audio de c73gdhf8.mp3 descargado correctamente\n",
      "Vídeo 235\n",
      "MoviePy - Writing audio in audios_de_trabajo/3j54BFB0.mp3\n"
     ]
    },
    {
     "name": "stderr",
     "output_type": "stream",
     "text": [
      "                                                                                                                       \r"
     ]
    },
    {
     "name": "stdout",
     "output_type": "stream",
     "text": [
      "MoviePy - Done.\n",
      "Audio de 3j54BFB0.mp3 descargado correctamente\n",
      "Vídeo 236\n"
     ]
    },
    {
     "ename": "KeyboardInterrupt",
     "evalue": "",
     "output_type": "error",
     "traceback": [
      "\u001b[1;31m---------------------------------------------------------------------------\u001b[0m",
      "\u001b[1;31mKeyboardInterrupt\u001b[0m                         Traceback (most recent call last)",
      "Cell \u001b[1;32mIn[9], line 21\u001b[0m\n\u001b[0;32m     19\u001b[0m url_link \u001b[38;5;241m=\u001b[39m \u001b[38;5;124mf\u001b[39m\u001b[38;5;124m'\u001b[39m\u001b[38;5;124mhttps://medial.mondragon.edu/flash/\u001b[39m\u001b[38;5;132;01m{\u001b[39;00murl_codigo\u001b[38;5;132;01m}\u001b[39;00m\u001b[38;5;124m_hd.mp4\u001b[39m\u001b[38;5;124m'\u001b[39m\n\u001b[0;32m     20\u001b[0m \u001b[38;5;28mprint\u001b[39m(\u001b[38;5;124mf\u001b[39m\u001b[38;5;124m'\u001b[39m\u001b[38;5;124mVídeo \u001b[39m\u001b[38;5;132;01m{\u001b[39;00mindex\u001b[38;5;132;01m}\u001b[39;00m\u001b[38;5;124m'\u001b[39m)\n\u001b[1;32m---> 21\u001b[0m downloadVideo_GetSound (url_link \u001b[38;5;241m=\u001b[39m url_link, nombre_destino \u001b[38;5;241m=\u001b[39m url_codigo)\n",
      "Cell \u001b[1;32mIn[9], line 6\u001b[0m, in \u001b[0;36mdownloadVideo_GetSound\u001b[1;34m(url_link, nombre_destino)\u001b[0m\n\u001b[0;32m      2\u001b[0m \u001b[38;5;250m\u001b[39m\u001b[38;5;124;03m\"\"\"\u001b[39;00m\n\u001b[0;32m      3\u001b[0m \u001b[38;5;124;03mLink in string \u001b[39;00m\n\u001b[0;32m      4\u001b[0m \u001b[38;5;124;03m\"\"\"\u001b[39;00m\n\u001b[0;32m      5\u001b[0m \u001b[38;5;66;03m##Descargar vídeo\u001b[39;00m\n\u001b[1;32m----> 6\u001b[0m urllib\u001b[38;5;241m.\u001b[39mrequest\u001b[38;5;241m.\u001b[39murlretrieve(url_link, \u001b[38;5;124mf\u001b[39m\u001b[38;5;124m'\u001b[39m\u001b[38;5;124maudios_de_trabajo/video1.mp4\u001b[39m\u001b[38;5;124m'\u001b[39m) \n\u001b[0;32m      7\u001b[0m \u001b[38;5;66;03m#Cargamos el fichero .mp4\u001b[39;00m\n\u001b[0;32m      8\u001b[0m clip \u001b[38;5;241m=\u001b[39m mp\u001b[38;5;241m.\u001b[39mVideoFileClip(\u001b[38;5;124mf\u001b[39m\u001b[38;5;124m'\u001b[39m\u001b[38;5;124maudios_de_trabajo/video1.mp4\u001b[39m\u001b[38;5;124m'\u001b[39m)\n",
      "File \u001b[1;32m~\\.conda\\envs\\myenv\\Lib\\urllib\\request.py:270\u001b[0m, in \u001b[0;36murlretrieve\u001b[1;34m(url, filename, reporthook, data)\u001b[0m\n\u001b[0;32m    267\u001b[0m     reporthook(blocknum, bs, size)\n\u001b[0;32m    269\u001b[0m \u001b[38;5;28;01mwhile\u001b[39;00m \u001b[38;5;28;01mTrue\u001b[39;00m:\n\u001b[1;32m--> 270\u001b[0m     block \u001b[38;5;241m=\u001b[39m fp\u001b[38;5;241m.\u001b[39mread(bs)\n\u001b[0;32m    271\u001b[0m     \u001b[38;5;28;01mif\u001b[39;00m \u001b[38;5;129;01mnot\u001b[39;00m block:\n\u001b[0;32m    272\u001b[0m         \u001b[38;5;28;01mbreak\u001b[39;00m\n",
      "File \u001b[1;32m~\\.conda\\envs\\myenv\\Lib\\http\\client.py:466\u001b[0m, in \u001b[0;36mHTTPResponse.read\u001b[1;34m(self, amt)\u001b[0m\n\u001b[0;32m    463\u001b[0m \u001b[38;5;28;01mif\u001b[39;00m \u001b[38;5;28mself\u001b[39m\u001b[38;5;241m.\u001b[39mlength \u001b[38;5;129;01mis\u001b[39;00m \u001b[38;5;129;01mnot\u001b[39;00m \u001b[38;5;28;01mNone\u001b[39;00m \u001b[38;5;129;01mand\u001b[39;00m amt \u001b[38;5;241m>\u001b[39m \u001b[38;5;28mself\u001b[39m\u001b[38;5;241m.\u001b[39mlength:\n\u001b[0;32m    464\u001b[0m     \u001b[38;5;66;03m# clip the read to the \"end of response\"\u001b[39;00m\n\u001b[0;32m    465\u001b[0m     amt \u001b[38;5;241m=\u001b[39m \u001b[38;5;28mself\u001b[39m\u001b[38;5;241m.\u001b[39mlength\n\u001b[1;32m--> 466\u001b[0m s \u001b[38;5;241m=\u001b[39m \u001b[38;5;28mself\u001b[39m\u001b[38;5;241m.\u001b[39mfp\u001b[38;5;241m.\u001b[39mread(amt)\n\u001b[0;32m    467\u001b[0m \u001b[38;5;28;01mif\u001b[39;00m \u001b[38;5;129;01mnot\u001b[39;00m s \u001b[38;5;129;01mand\u001b[39;00m amt:\n\u001b[0;32m    468\u001b[0m     \u001b[38;5;66;03m# Ideally, we would raise IncompleteRead if the content-length\u001b[39;00m\n\u001b[0;32m    469\u001b[0m     \u001b[38;5;66;03m# wasn't satisfied, but it might break compatibility.\u001b[39;00m\n\u001b[0;32m    470\u001b[0m     \u001b[38;5;28mself\u001b[39m\u001b[38;5;241m.\u001b[39m_close_conn()\n",
      "File \u001b[1;32m~\\.conda\\envs\\myenv\\Lib\\socket.py:706\u001b[0m, in \u001b[0;36mSocketIO.readinto\u001b[1;34m(self, b)\u001b[0m\n\u001b[0;32m    704\u001b[0m \u001b[38;5;28;01mwhile\u001b[39;00m \u001b[38;5;28;01mTrue\u001b[39;00m:\n\u001b[0;32m    705\u001b[0m     \u001b[38;5;28;01mtry\u001b[39;00m:\n\u001b[1;32m--> 706\u001b[0m         \u001b[38;5;28;01mreturn\u001b[39;00m \u001b[38;5;28mself\u001b[39m\u001b[38;5;241m.\u001b[39m_sock\u001b[38;5;241m.\u001b[39mrecv_into(b)\n\u001b[0;32m    707\u001b[0m     \u001b[38;5;28;01mexcept\u001b[39;00m timeout:\n\u001b[0;32m    708\u001b[0m         \u001b[38;5;28mself\u001b[39m\u001b[38;5;241m.\u001b[39m_timeout_occurred \u001b[38;5;241m=\u001b[39m \u001b[38;5;28;01mTrue\u001b[39;00m\n",
      "File \u001b[1;32m~\\.conda\\envs\\myenv\\Lib\\ssl.py:1311\u001b[0m, in \u001b[0;36mSSLSocket.recv_into\u001b[1;34m(self, buffer, nbytes, flags)\u001b[0m\n\u001b[0;32m   1307\u001b[0m     \u001b[38;5;28;01mif\u001b[39;00m flags \u001b[38;5;241m!=\u001b[39m \u001b[38;5;241m0\u001b[39m:\n\u001b[0;32m   1308\u001b[0m         \u001b[38;5;28;01mraise\u001b[39;00m \u001b[38;5;167;01mValueError\u001b[39;00m(\n\u001b[0;32m   1309\u001b[0m           \u001b[38;5;124m\"\u001b[39m\u001b[38;5;124mnon-zero flags not allowed in calls to recv_into() on \u001b[39m\u001b[38;5;132;01m%s\u001b[39;00m\u001b[38;5;124m\"\u001b[39m \u001b[38;5;241m%\u001b[39m\n\u001b[0;32m   1310\u001b[0m           \u001b[38;5;28mself\u001b[39m\u001b[38;5;241m.\u001b[39m\u001b[38;5;18m__class__\u001b[39m)\n\u001b[1;32m-> 1311\u001b[0m     \u001b[38;5;28;01mreturn\u001b[39;00m \u001b[38;5;28mself\u001b[39m\u001b[38;5;241m.\u001b[39mread(nbytes, buffer)\n\u001b[0;32m   1312\u001b[0m \u001b[38;5;28;01melse\u001b[39;00m:\n\u001b[0;32m   1313\u001b[0m     \u001b[38;5;28;01mreturn\u001b[39;00m \u001b[38;5;28msuper\u001b[39m()\u001b[38;5;241m.\u001b[39mrecv_into(buffer, nbytes, flags)\n",
      "File \u001b[1;32m~\\.conda\\envs\\myenv\\Lib\\ssl.py:1167\u001b[0m, in \u001b[0;36mSSLSocket.read\u001b[1;34m(self, len, buffer)\u001b[0m\n\u001b[0;32m   1165\u001b[0m \u001b[38;5;28;01mtry\u001b[39;00m:\n\u001b[0;32m   1166\u001b[0m     \u001b[38;5;28;01mif\u001b[39;00m buffer \u001b[38;5;129;01mis\u001b[39;00m \u001b[38;5;129;01mnot\u001b[39;00m \u001b[38;5;28;01mNone\u001b[39;00m:\n\u001b[1;32m-> 1167\u001b[0m         \u001b[38;5;28;01mreturn\u001b[39;00m \u001b[38;5;28mself\u001b[39m\u001b[38;5;241m.\u001b[39m_sslobj\u001b[38;5;241m.\u001b[39mread(\u001b[38;5;28mlen\u001b[39m, buffer)\n\u001b[0;32m   1168\u001b[0m     \u001b[38;5;28;01melse\u001b[39;00m:\n\u001b[0;32m   1169\u001b[0m         \u001b[38;5;28;01mreturn\u001b[39;00m \u001b[38;5;28mself\u001b[39m\u001b[38;5;241m.\u001b[39m_sslobj\u001b[38;5;241m.\u001b[39mread(\u001b[38;5;28mlen\u001b[39m)\n",
      "\u001b[1;31mKeyboardInterrupt\u001b[0m: "
     ]
    }
   ],
   "source": [
    "def downloadVideo_GetSound (url_link, nombre_destino): \n",
    "    \"\"\"\n",
    "    Link in string \n",
    "    \"\"\"\n",
    "    ##Descargar vídeo\n",
    "    urllib.request.urlretrieve(url_link, f'audios_de_trabajo/video1.mp4') \n",
    "    #Cargamos el fichero .mp4\n",
    "    clip = mp.VideoFileClip(f'audios_de_trabajo/video1.mp4')\n",
    "    \n",
    "    #Lo escribimos como audio y `.mp3`\n",
    "    clip.audio.write_audiofile(f\"audios_de_trabajo/{nombre_destino}.mp3\")\n",
    "    print(f'Audio de {nombre_destino}.mp3 descargado correctamente')\n",
    "videos_codigo = pd.read_csv('codigo_videos.csv')\n",
    "for index, row in videos_codigo.iloc[128:].iterrows():\n",
    "    url_codigo = row['url']\n",
    "    if pd.isna(url_codigo):\n",
    "        pass\n",
    "    else:\n",
    "        url_link = f'https://medial.mondragon.edu/flash/{url_codigo}_hd.mp4'\n",
    "        print(f'Vídeo {index}')\n",
    "        downloadVideo_GetSound (url_link = url_link, nombre_destino = url_codigo)"
   ]
  },
  {
   "cell_type": "code",
   "execution_count": 10,
   "id": "a2ef5e79-fc28-4aab-a170-8377738751d5",
   "metadata": {},
   "outputs": [
    {
     "name": "stdout",
     "output_type": "stream",
     "text": [
      "Vídeo 236\n",
      "MoviePy - Writing audio in audios_de_trabajo/3f26aAF7.mp3\n"
     ]
    },
    {
     "name": "stderr",
     "output_type": "stream",
     "text": [
      "                                                                                                                       \r"
     ]
    },
    {
     "name": "stdout",
     "output_type": "stream",
     "text": [
      "MoviePy - Done.\n",
      "Audio de 3f26aAF7.mp3 descargado correctamente\n",
      "Vídeo 237\n",
      "MoviePy - Writing audio in audios_de_trabajo/e404DBi9.mp3\n"
     ]
    },
    {
     "name": "stderr",
     "output_type": "stream",
     "text": [
      "                                                                                                                       \r"
     ]
    },
    {
     "name": "stdout",
     "output_type": "stream",
     "text": [
      "MoviePy - Done.\n",
      "Audio de e404DBi9.mp3 descargado correctamente\n",
      "Vídeo 238\n",
      "MoviePy - Writing audio in audios_de_trabajo/gaI2cc4i.mp3\n"
     ]
    },
    {
     "name": "stderr",
     "output_type": "stream",
     "text": [
      "                                                                                                                       \r"
     ]
    },
    {
     "name": "stdout",
     "output_type": "stream",
     "text": [
      "MoviePy - Done.\n",
      "Audio de gaI2cc4i.mp3 descargado correctamente\n",
      "Vídeo 239\n",
      "MoviePy - Writing audio in audios_de_trabajo/D1FCjE48.mp3\n"
     ]
    },
    {
     "name": "stderr",
     "output_type": "stream",
     "text": [
      "                                                                                                                       \r"
     ]
    },
    {
     "name": "stdout",
     "output_type": "stream",
     "text": [
      "MoviePy - Done.\n",
      "Audio de D1FCjE48.mp3 descargado correctamente\n",
      "Vídeo 240\n",
      "MoviePy - Writing audio in audios_de_trabajo/G51iaB60.mp3\n"
     ]
    },
    {
     "name": "stderr",
     "output_type": "stream",
     "text": [
      "                                                                                                                       \r"
     ]
    },
    {
     "name": "stdout",
     "output_type": "stream",
     "text": [
      "MoviePy - Done.\n",
      "Audio de G51iaB60.mp3 descargado correctamente\n",
      "Vídeo 241\n",
      "MoviePy - Writing audio in audios_de_trabajo/77iD22Bf.mp3\n"
     ]
    },
    {
     "name": "stderr",
     "output_type": "stream",
     "text": [
      "                                                                                                                       \r"
     ]
    },
    {
     "name": "stdout",
     "output_type": "stream",
     "text": [
      "MoviePy - Done.\n",
      "Audio de 77iD22Bf.mp3 descargado correctamente\n",
      "Vídeo 242\n",
      "MoviePy - Writing audio in audios_de_trabajo/40AfJEi7.mp3\n"
     ]
    },
    {
     "name": "stderr",
     "output_type": "stream",
     "text": [
      "                                                                                                                       \r"
     ]
    },
    {
     "name": "stdout",
     "output_type": "stream",
     "text": [
      "MoviePy - Done.\n",
      "Audio de 40AfJEi7.mp3 descargado correctamente\n",
      "Vídeo 243\n",
      "MoviePy - Writing audio in audios_de_trabajo/h1bh0Dge.mp3\n"
     ]
    },
    {
     "name": "stderr",
     "output_type": "stream",
     "text": [
      "                                                                                                                       \r"
     ]
    },
    {
     "name": "stdout",
     "output_type": "stream",
     "text": [
      "MoviePy - Done.\n",
      "Audio de h1bh0Dge.mp3 descargado correctamente\n",
      "Vídeo 244\n",
      "MoviePy - Writing audio in audios_de_trabajo/9c39cDBe.mp3\n"
     ]
    },
    {
     "name": "stderr",
     "output_type": "stream",
     "text": [
      "                                                                                                                       \r"
     ]
    },
    {
     "name": "stdout",
     "output_type": "stream",
     "text": [
      "MoviePy - Done.\n",
      "Audio de 9c39cDBe.mp3 descargado correctamente\n",
      "Vídeo 245\n",
      "MoviePy - Writing audio in audios_de_trabajo/ge23DB34.mp3\n"
     ]
    },
    {
     "name": "stderr",
     "output_type": "stream",
     "text": [
      "                                                                                                                       \r"
     ]
    },
    {
     "name": "stdout",
     "output_type": "stream",
     "text": [
      "MoviePy - Done.\n",
      "Audio de ge23DB34.mp3 descargado correctamente\n",
      "Vídeo 246\n",
      "MoviePy - Writing audio in audios_de_trabajo/5J0JfI9A.mp3\n"
     ]
    },
    {
     "name": "stderr",
     "output_type": "stream",
     "text": [
      "                                                                                                                       \r"
     ]
    },
    {
     "name": "stdout",
     "output_type": "stream",
     "text": [
      "MoviePy - Done.\n",
      "Audio de 5J0JfI9A.mp3 descargado correctamente\n",
      "Vídeo 247\n",
      "MoviePy - Writing audio in audios_de_trabajo/4IJF08Dc.mp3\n"
     ]
    },
    {
     "name": "stderr",
     "output_type": "stream",
     "text": [
      "                                                                                                                       \r"
     ]
    },
    {
     "name": "stdout",
     "output_type": "stream",
     "text": [
      "MoviePy - Done.\n",
      "Audio de 4IJF08Dc.mp3 descargado correctamente\n",
      "Vídeo 248\n",
      "MoviePy - Writing audio in audios_de_trabajo/3A3470Aj.mp3\n"
     ]
    },
    {
     "name": "stderr",
     "output_type": "stream",
     "text": [
      "                                                                                                                       \r"
     ]
    },
    {
     "name": "stdout",
     "output_type": "stream",
     "text": [
      "MoviePy - Done.\n",
      "Audio de 3A3470Aj.mp3 descargado correctamente\n",
      "Vídeo 249\n",
      "MoviePy - Writing audio in audios_de_trabajo/FcG1ieDg.mp3\n"
     ]
    },
    {
     "name": "stderr",
     "output_type": "stream",
     "text": [
      "                                                                                                                       \r"
     ]
    },
    {
     "name": "stdout",
     "output_type": "stream",
     "text": [
      "MoviePy - Done.\n",
      "Audio de FcG1ieDg.mp3 descargado correctamente\n",
      "Vídeo 250\n",
      "MoviePy - Writing audio in audios_de_trabajo/a3aGfCI1.mp3\n"
     ]
    },
    {
     "name": "stderr",
     "output_type": "stream",
     "text": [
      "                                                                                                                       \r"
     ]
    },
    {
     "name": "stdout",
     "output_type": "stream",
     "text": [
      "MoviePy - Done.\n",
      "Audio de a3aGfCI1.mp3 descargado correctamente\n",
      "Vídeo 251\n",
      "MoviePy - Writing audio in audios_de_trabajo/D87aga0h.mp3\n"
     ]
    },
    {
     "name": "stderr",
     "output_type": "stream",
     "text": [
      "                                                                                                                       \r"
     ]
    },
    {
     "name": "stdout",
     "output_type": "stream",
     "text": [
      "MoviePy - Done.\n",
      "Audio de D87aga0h.mp3 descargado correctamente\n",
      "Vídeo 252\n",
      "MoviePy - Writing audio in audios_de_trabajo/iB4fJ2He.mp3\n"
     ]
    },
    {
     "name": "stderr",
     "output_type": "stream",
     "text": [
      "                                                                                                                       "
     ]
    },
    {
     "name": "stdout",
     "output_type": "stream",
     "text": [
      "MoviePy - Done.\n",
      "Audio de iB4fJ2He.mp3 descargado correctamente\n"
     ]
    },
    {
     "name": "stderr",
     "output_type": "stream",
     "text": [
      "\r"
     ]
    }
   ],
   "source": [
    "def downloadVideo_GetSound (url_link, nombre_destino): \n",
    "    \"\"\"\n",
    "    Link in string \n",
    "    \"\"\"\n",
    "    ##Descargar vídeo\n",
    "    urllib.request.urlretrieve(url_link, f'audios_de_trabajo/video1.mp4') \n",
    "    #Cargamos el fichero .mp4\n",
    "    clip = mp.VideoFileClip(f'audios_de_trabajo/video1.mp4')\n",
    "    \n",
    "    #Lo escribimos como audio y `.mp3`\n",
    "    clip.audio.write_audiofile(f\"audios_de_trabajo/{nombre_destino}.mp3\")\n",
    "    print(f'Audio de {nombre_destino}.mp3 descargado correctamente')\n",
    "videos_codigo = pd.read_csv('codigo_videos.csv')\n",
    "for index, row in videos_codigo.iloc[236:].iterrows():\n",
    "    url_codigo = row['url']\n",
    "    if pd.isna(url_codigo):\n",
    "        pass\n",
    "    else:\n",
    "        url_link = f'https://medial.mondragon.edu/flash/{url_codigo}_hd.mp4'\n",
    "        print(f'Vídeo {index}')\n",
    "        downloadVideo_GetSound (url_link = url_link, nombre_destino = url_codigo)"
   ]
  },
  {
   "cell_type": "code",
   "execution_count": null,
   "id": "8354e865-8010-49f3-94f2-d4c1c729b7ad",
   "metadata": {},
   "outputs": [],
   "source": []
  }
 ],
 "metadata": {
  "kernelspec": {
   "display_name": "Python 3 (ipykernel)",
   "language": "python",
   "name": "python3"
  },
  "language_info": {
   "codemirror_mode": {
    "name": "ipython",
    "version": 3
   },
   "file_extension": ".py",
   "mimetype": "text/x-python",
   "name": "python",
   "nbconvert_exporter": "python",
   "pygments_lexer": "ipython3",
   "version": "3.11.5"
  }
 },
 "nbformat": 4,
 "nbformat_minor": 5
}
